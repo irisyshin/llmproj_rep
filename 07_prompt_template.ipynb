{
 "cells": [
  {
   "cell_type": "code",
   "execution_count": 1,
   "id": "f3e048e5",
   "metadata": {},
   "outputs": [
    {
     "data": {
      "text/plain": [
       "ChatOpenAI(client=<openai.resources.chat.completions.completions.Completions object at 0x000001E04F6E4E00>, async_client=<openai.resources.chat.completions.completions.AsyncCompletions object at 0x000001E04FBCDD30>, root_client=<openai.OpenAI object at 0x000001E04CCA0BC0>, root_async_client=<openai.AsyncOpenAI object at 0x000001E04F6E68D0>, model_name='gpt-4o-mini', model_kwargs={}, openai_api_key=SecretStr('**********'))"
      ]
     },
     "execution_count": 1,
     "metadata": {},
     "output_type": "execute_result"
    }
   ],
   "source": [
    "# prompt template\n",
    "\n",
    "from langchain_openai import ChatOpenAI\n",
    "llm = ChatOpenAI(model='gpt-4o-mini')\n",
    "llm"
   ]
  },
  {
   "cell_type": "code",
   "execution_count": 3,
   "id": "7e02b117",
   "metadata": {},
   "outputs": [
    {
     "data": {
      "text/plain": [
       "'서울에서 유명한 맛집을 알려주새요'"
      ]
     },
     "execution_count": 3,
     "metadata": {},
     "output_type": "execute_result"
    }
   ],
   "source": [
    "from langchain.prompts import PromptTemplate\n",
    "template = PromptTemplate.from_template(\"{city}에서 {adj} {topic}을 알려주새요\")\n",
    "prompt = template.format(city='서울', adj='유명한', topic='맛집')\n",
    "# qustnaudrhk 래금ㅅ gkstndml aoroqustnauddl rkxdkdigka \n",
    "prompt"
   ]
  },
  {
   "cell_type": "code",
   "execution_count": 4,
   "id": "5d313c89",
   "metadata": {},
   "outputs": [
    {
     "data": {
      "text/plain": [
       "AIMessage(content='서울에는 다양한 맛집이 많이 있습니다. 몇 군데 추천해드릴게요.\\n\\n1. **광장시장** - 전통 시장으로, 다양한 한국 음식이 있습니다. 특히 마약김밥과 빈대떡이 유명합니다.\\n\\n2. **명동교자** - 칼국수와 만두로 유명한 맛집으로, 항상 많은 사람들이 줄 서서 기다립니다.\\n\\n3. **이태원 부탄** - 다양한 종류의 커리와 인도 음식을 즐길 수 있는 곳입니다. 독특한 인테리어와 분위기도 매력적입니다.\\n\\n4. **삼청동 소고기집** - 질 좋은 소고기를 제공하는 고급스러운 한식당으로, 특별한 날에 가기 좋은 곳입니다.\\n\\n5. **한남동 피자몰** - 다양한 스타일의 피자를 제공하는 맛집입니다. 독특한 토핑과 신선한 재료로 인기가 많습니다.\\n\\n6. **을지로 골뱅이** - 골뱅이 무침과 소주를 함께 즐길 수 있는 작은 술집으로, 현지인들 사이에서 유명합니다.\\n\\n이 외에도 서울에는 정말 많은 맛집이 있으니, 다양한 음식을 경험해보세요!', additional_kwargs={'refusal': None}, response_metadata={'token_usage': {'completion_tokens': 269, 'prompt_tokens': 18, 'total_tokens': 287, 'completion_tokens_details': {'accepted_prediction_tokens': 0, 'audio_tokens': 0, 'reasoning_tokens': 0, 'rejected_prediction_tokens': 0}, 'prompt_tokens_details': {'audio_tokens': 0, 'cached_tokens': 0}}, 'model_name': 'gpt-4o-mini-2024-07-18', 'system_fingerprint': 'fp_8bda4d3a2c', 'id': 'chatcmpl-CDLvR9jAOxsVbCNVF06iFmxDWe7SO', 'service_tier': 'default', 'finish_reason': 'stop', 'logprobs': None}, id='run--e16e0f2a-0b27-4821-8b75-8c50335d8473-0', usage_metadata={'input_tokens': 18, 'output_tokens': 269, 'total_tokens': 287, 'input_token_details': {'audio': 0, 'cache_read': 0}, 'output_token_details': {'audio': 0, 'reasoning': 0}})"
      ]
     },
     "execution_count": 4,
     "metadata": {},
     "output_type": "execute_result"
    }
   ],
   "source": [
    "response = llm.invoke(prompt)\n",
    "response"
   ]
  },
  {
   "cell_type": "code",
   "execution_count": 5,
   "id": "efe4544a",
   "metadata": {},
   "outputs": [
    {
     "data": {
      "text/plain": [
       "'서울에는 다양한 맛집이 많이 있습니다. 몇 군데 추천해드릴게요.\\n\\n1. **광장시장** - 전통 시장으로, 다양한 한국 음식이 있습니다. 특히 마약김밥과 빈대떡이 유명합니다.\\n\\n2. **명동교자** - 칼국수와 만두로 유명한 맛집으로, 항상 많은 사람들이 줄 서서 기다립니다.\\n\\n3. **이태원 부탄** - 다양한 종류의 커리와 인도 음식을 즐길 수 있는 곳입니다. 독특한 인테리어와 분위기도 매력적입니다.\\n\\n4. **삼청동 소고기집** - 질 좋은 소고기를 제공하는 고급스러운 한식당으로, 특별한 날에 가기 좋은 곳입니다.\\n\\n5. **한남동 피자몰** - 다양한 스타일의 피자를 제공하는 맛집입니다. 독특한 토핑과 신선한 재료로 인기가 많습니다.\\n\\n6. **을지로 골뱅이** - 골뱅이 무침과 소주를 함께 즐길 수 있는 작은 술집으로, 현지인들 사이에서 유명합니다.\\n\\n이 외에도 서울에는 정말 많은 맛집이 있으니, 다양한 음식을 경험해보세요!'"
      ]
     },
     "execution_count": 5,
     "metadata": {},
     "output_type": "execute_result"
    }
   ],
   "source": [
    "response.content"
   ]
  },
  {
   "cell_type": "code",
   "execution_count": 6,
   "id": "1da9510f",
   "metadata": {},
   "outputs": [],
   "source": [
    "# template save"
   ]
  },
  {
   "cell_type": "code",
   "execution_count": 7,
   "id": "7bb5ec06",
   "metadata": {},
   "outputs": [],
   "source": [
    "template.save('restaurant_tour_prompt.json')"
   ]
  },
  {
   "cell_type": "code",
   "execution_count": 10,
   "id": "f816499b",
   "metadata": {},
   "outputs": [
    {
     "data": {
      "text/plain": [
       "'부산에서 가장 멋진 박물관을 알려주새요'"
      ]
     },
     "execution_count": 10,
     "metadata": {},
     "output_type": "execute_result"
    }
   ],
   "source": [
    "from langchain.prompts import load_prompt\n",
    "temp_load = load_prompt('restaurant_tour_prompt.json')\n",
    "prompt = temp_load.format(city='부산', adj='가장 멋진', topic='박물관')\n",
    "prompt"
   ]
  },
  {
   "cell_type": "code",
   "execution_count": 12,
   "id": "0728bdc4",
   "metadata": {},
   "outputs": [],
   "source": [
    "# ChatPromptTemplate\n",
    "# 누적을 위해 사용하는 프롬프트\n"
   ]
  },
  {
   "cell_type": "code",
   "execution_count": 14,
   "id": "9b910e9b",
   "metadata": {},
   "outputs": [
    {
     "data": {
      "text/plain": [
       "ChatPromptTemplate(input_variables=['place', 'question', 'travel', 'when'], input_types={}, partial_variables={}, messages=[SystemMessagePromptTemplate(prompt=PromptTemplate(input_variables=[], input_types={}, partial_variables={}, template='당신은 베테랑 여행 가이드입니다. 고객 맞춤 여행일정 수립을 도와드립니다.'), additional_kwargs={}), HumanMessagePromptTemplate(prompt=PromptTemplate(input_variables=['place', 'travel', 'when'], input_types={}, partial_variables={}, template='{when}에 {place}로 {travel}을 계획중입니다.'), additional_kwargs={}), AIMessagePromptTemplate(prompt=PromptTemplate(input_variables=['place'], input_types={}, partial_variables={}, template='제가 {place}의 전문여행가이드입니다. 어떤 도움이 필요허신가요?'), additional_kwargs={}), HumanMessagePromptTemplate(prompt=PromptTemplate(input_variables=['question'], input_types={}, partial_variables={}, template='{question}'), additional_kwargs={})])"
      ]
     },
     "execution_count": 14,
     "metadata": {},
     "output_type": "execute_result"
    }
   ],
   "source": [
    "from langchain.prompts import ChatPromptTemplate\n",
    "\n",
    "chat_template = ChatPromptTemplate.from_messages(\n",
    "    [\n",
    "    ('system', '당신은 베테랑 여행 가이드입니다. 고객 맞춤 여행일정 수립을 도와드립니다.'),\n",
    "    ('human','{when}에 {place}로 {travel}을 계획중입니다.'), # 사용자 프롬프트\n",
    "    ('ai', '제가 {place}의 전문여행가이드입니다. 어떤 도움이 필요허신가요?'),\n",
    "    ('human','{question}')\n",
    "    ]\n",
    ")\n",
    "\n",
    "chat_template"
   ]
  },
  {
   "cell_type": "code",
   "execution_count": 18,
   "id": "728454a0",
   "metadata": {},
   "outputs": [
    {
     "data": {
      "text/plain": [
       "[SystemMessage(content='당신은 베테랑 여행 가이드입니다. 고객 맞춤 여행일정 수립을 도와드립니다.', additional_kwargs={}, response_metadata={}),\n",
       " HumanMessage(content='가을에 제주로 자유여행을 계획중입니다.', additional_kwargs={}, response_metadata={}),\n",
       " AIMessage(content='제가 제주의 전문여행가이드입니다. 어떤 도움이 필요허신가요?', additional_kwargs={}, response_metadata={}),\n",
       " HumanMessage(content='흥미로운 여행지', additional_kwargs={}, response_metadata={})]"
      ]
     },
     "execution_count": 18,
     "metadata": {},
     "output_type": "execute_result"
    }
   ],
   "source": [
    "final_prompt = chat_template.format_messages(when='가을', place='제주', travel='자유여행', question='흥미로운 여행지')\n",
    "final_prompt"
   ]
  },
  {
   "cell_type": "code",
   "execution_count": 20,
   "id": "b54d7913",
   "metadata": {},
   "outputs": [
    {
     "data": {
      "text/plain": [
       "AIMessage(content='제주도는 가을에 방문하기 좋은 아름다운 자연과 다양한 문화유산이 있는 곳입니다. 아래는 추천하는 흥미로운 여행지 목록입니다.\\n\\n### 1. 한라산 국립공원\\n- **설명**: 제주도의 중심에 위치한 한라산은 등산과 자연 탐방에 최적의 장소입니다. 가을철 단풍이 특히 아름답습니다.\\n- **추천 코스**: 성판악 코스 (왕복 약 9.6km, 4~5시간 소요)\\n\\n### 2. 성산 일출봉\\n- **설명**: 제주 East Coast의 상징적인 장소로, 일출이 특히 아름답기로 유명합니다. 정상에서의 경관이 일품입니다.\\n- **주의사항**: 날씨에 따라 다르지만, 아침 일찍 가는 것을 추천합니다.\\n\\n### 3. 우도\\n- **설명**: 성산항에서 페리를 타고 갈 수 있는 작은 섬입니다. 맑은 바다와 아름다운 해변, 다양한 해산물 요리를 즐길 수 있습니다.\\n- **추천 활동**: 스노클링, 자전거 대여하여 섬 일주하기, 땅콩 아이스크림 맛보기\\n\\n### 4. 비자림\\n- **설명**: 수천 년 된 비자나무 숲이 있는 곳으로, 가을의 정취를 느끼며 산책하기 좋습니다.\\n- **특징**: 조용하고 한적한 분위기를 즐길 수 있습니다.\\n\\n### 5. 오름 탐방\\n- **설명**: 제주도는 다양한 오름(작은 화산)으로 유명합니다. 가을에 탐방하면 경치가 너무 아름답습니다.\\n- **추천 오름**: 송악산, 금악오름, 산굼부리\\n\\n### 6. 제주민속촌\\n- **설명**: 제주 전통문화를 체험할 수 있는 곳입니다. 가을의 풍경 속에서 전통 가옥과 문화를 관람할 수 있습니다.\\n- **특징**: 다양한 전시와 공연이 열립니다.\\n\\n### 7. 협재 해수욕장\\n- **설명**: 제주도의 아름다운 바다를 즐길 수 있는 해변 중 하나입니다. 가을에도 바다의 아름다움을 만끽할 수 있습니다.\\n- **추천 활동**: 바다 수영, 해변 산책\\n\\n### 8. 중문관광단지\\n- **설명**: 리조트, 쇼핑, 미술관 등이 모여 있는 지역입니다. 예쁜 경치와 함께 다양한 편의시설이 있습니다.\\n- **추천 코스**: 여미지 식물원, 중문 해수욕장\\n\\n이 외에도 제주도에는 숨겨진 명소들이 많습니다. 여행 계획 시 선호하는 활동과 관심사에 따라 추가 맞춤 정보를 제공해 드릴 수 있습니다. 어떤 일정이 필요하시든 말씀해 주세요!', additional_kwargs={'refusal': None}, response_metadata={'token_usage': {'completion_tokens': 646, 'prompt_tokens': 79, 'total_tokens': 725, 'completion_tokens_details': {'accepted_prediction_tokens': 0, 'audio_tokens': 0, 'reasoning_tokens': 0, 'rejected_prediction_tokens': 0}, 'prompt_tokens_details': {'audio_tokens': 0, 'cached_tokens': 0}}, 'model_name': 'gpt-4o-mini-2024-07-18', 'system_fingerprint': 'fp_8bda4d3a2c', 'id': 'chatcmpl-CDM6Q3Jr2DghnzlC1IGZYksFa6lnq', 'service_tier': 'default', 'finish_reason': 'stop', 'logprobs': None}, id='run--aa15fd61-9958-49d3-ab96-3305c38ce3ab-0', usage_metadata={'input_tokens': 79, 'output_tokens': 646, 'total_tokens': 725, 'input_token_details': {'audio': 0, 'cache_read': 0}, 'output_token_details': {'audio': 0, 'reasoning': 0}})"
      ]
     },
     "execution_count": 20,
     "metadata": {},
     "output_type": "execute_result"
    }
   ],
   "source": [
    "final_response = llm.invoke(final_prompt)\n",
    "final_response"
   ]
  },
  {
   "cell_type": "code",
   "execution_count": 22,
   "id": "a6026219",
   "metadata": {},
   "outputs": [
    {
     "data": {
      "text/plain": [
       "'제주도는 가을에 방문하기 좋은 아름다운 자연과 다양한 문화유산이 있는 곳입니다. 아래는 추천하는 흥미로운 여행지 목록입니다.\\n\\n### 1. 한라산 국립공원\\n- **설명**: 제주도의 중심에 위치한 한라산은 등산과 자연 탐방에 최적의 장소입니다. 가을철 단풍이 특히 아름답습니다.\\n- **추천 코스**: 성판악 코스 (왕복 약 9.6km, 4~5시간 소요)\\n\\n### 2. 성산 일출봉\\n- **설명**: 제주 East Coast의 상징적인 장소로, 일출이 특히 아름답기로 유명합니다. 정상에서의 경관이 일품입니다.\\n- **주의사항**: 날씨에 따라 다르지만, 아침 일찍 가는 것을 추천합니다.\\n\\n### 3. 우도\\n- **설명**: 성산항에서 페리를 타고 갈 수 있는 작은 섬입니다. 맑은 바다와 아름다운 해변, 다양한 해산물 요리를 즐길 수 있습니다.\\n- **추천 활동**: 스노클링, 자전거 대여하여 섬 일주하기, 땅콩 아이스크림 맛보기\\n\\n### 4. 비자림\\n- **설명**: 수천 년 된 비자나무 숲이 있는 곳으로, 가을의 정취를 느끼며 산책하기 좋습니다.\\n- **특징**: 조용하고 한적한 분위기를 즐길 수 있습니다.\\n\\n### 5. 오름 탐방\\n- **설명**: 제주도는 다양한 오름(작은 화산)으로 유명합니다. 가을에 탐방하면 경치가 너무 아름답습니다.\\n- **추천 오름**: 송악산, 금악오름, 산굼부리\\n\\n### 6. 제주민속촌\\n- **설명**: 제주 전통문화를 체험할 수 있는 곳입니다. 가을의 풍경 속에서 전통 가옥과 문화를 관람할 수 있습니다.\\n- **특징**: 다양한 전시와 공연이 열립니다.\\n\\n### 7. 협재 해수욕장\\n- **설명**: 제주도의 아름다운 바다를 즐길 수 있는 해변 중 하나입니다. 가을에도 바다의 아름다움을 만끽할 수 있습니다.\\n- **추천 활동**: 바다 수영, 해변 산책\\n\\n### 8. 중문관광단지\\n- **설명**: 리조트, 쇼핑, 미술관 등이 모여 있는 지역입니다. 예쁜 경치와 함께 다양한 편의시설이 있습니다.\\n- **추천 코스**: 여미지 식물원, 중문 해수욕장\\n\\n이 외에도 제주도에는 숨겨진 명소들이 많습니다. 여행 계획 시 선호하는 활동과 관심사에 따라 추가 맞춤 정보를 제공해 드릴 수 있습니다. 어떤 일정이 필요하시든 말씀해 주세요!'"
      ]
     },
     "execution_count": 22,
     "metadata": {},
     "output_type": "execute_result"
    }
   ],
   "source": [
    "final_response.content"
   ]
  },
  {
   "cell_type": "code",
   "execution_count": 24,
   "id": "d15d5d1f",
   "metadata": {},
   "outputs": [
    {
     "data": {
      "text/plain": [
       "'당신은 베테랑 여행 가이드입니다. 고객 맞춤 여행일정 수립을 도와드립니다.12월에 동남아로 가족여행을 계획중입니다.'"
      ]
     },
     "execution_count": 24,
     "metadata": {},
     "output_type": "execute_result"
    }
   ],
   "source": [
    "# 각각의 프롬프트 \n",
    "\n",
    "prmpt_1 = PromptTemplate.from_template('당신은 베테랑 여행 가이드입니다. 고객 맞춤 여행일정 수립을 도와드립니다.')\n",
    "prmpt_2 = PromptTemplate.from_template('{when}에 {place}로 {travel}을 계획중입니다.') # 사용자 프롬프트\n",
    "\n",
    "concat_prompt = prmpt_1 + prmpt_2\n",
    "concat_prompt.format(when='12월', place='동남아', travel='가족여행')"
   ]
  },
  {
   "cell_type": "code",
   "execution_count": null,
   "id": "a4df620e",
   "metadata": {},
   "outputs": [],
   "source": []
  }
 ],
 "metadata": {
  "kernelspec": {
   "display_name": "prompting_env",
   "language": "python",
   "name": "python3"
  },
  "language_info": {
   "codemirror_mode": {
    "name": "ipython",
    "version": 3
   },
   "file_extension": ".py",
   "mimetype": "text/x-python",
   "name": "python",
   "nbconvert_exporter": "python",
   "pygments_lexer": "ipython3",
   "version": "3.12.11"
  }
 },
 "nbformat": 4,
 "nbformat_minor": 5
}
