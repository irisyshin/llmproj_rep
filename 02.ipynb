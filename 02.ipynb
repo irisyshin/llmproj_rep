{
 "cells": [
  {
   "cell_type": "code",
   "execution_count": 1,
   "id": "badb0268",
   "metadata": {},
   "outputs": [
    {
     "name": "stdout",
     "output_type": "stream",
     "text": [
      "API Key configured: True\n"
     ]
    }
   ],
   "source": [
    "from dotenv import load_dotenv\n",
    "import os \n",
    "load_dotenv()\n",
    "open_api_key = os.getenv('OPENAI_API_KEY')\n",
    "print(\"API Key configured:\", \"OPENAI_API_KEY\" in os.environ)\n",
    "from openai import OpenAI\n",
    "client = OpenAI()"
   ]
  },
  {
   "cell_type": "code",
   "execution_count": 2,
   "id": "097dd2a9",
   "metadata": {},
   "outputs": [],
   "source": [
    "response = client.chat.completions.create(\n",
    "    model='gpt-4o-mini', \n",
    "    messages=[\n",
    "        {'role':'user', 'content':'파이썬에 대해 알려줘'}\n",
    "    ]\n",
    ")"
   ]
  },
  {
   "cell_type": "code",
   "execution_count": 3,
   "id": "4ba46b36",
   "metadata": {},
   "outputs": [
    {
     "data": {
      "text/plain": [
       "'파이썬(Python)은 1991년에 귀도 반 로썸(Guido van Rossum)이 개발한 고급 프로그래밍 언어입니다. 파이썬은 간결한 문법과 코드 가독성을 중시하며, 다양한 프로그래밍 패러다임(절차적, 객체지향, 함수형)을 지원하는 언어입니다. 다음은 파이썬의 주요 특징입니다:\\n\\n1. **가독성**: 파이썬 코드는 자연어에 가깝게 쓰여져 직관적이며, 코드가 쉽게 이해됩니다. 이는 개발자들이 코드를 작성하고 유지보수하는 데 큰 장점이 됩니다.\\n\\n2. **인터프리터 언어**: 파이썬은 인터프리터 언어로, 코드를 한 줄씩 실행할 수 있습니다. 이에 따라 디버깅과 프로토타입 개발에 유리합니다.\\n\\n3. **동적 타이핑**: 변수의 타입을 명시적으로 선언할 필요가 없으며, 실행 중에 타입이 결정됩니다. 이는 개발 속도를 높이지만, 일부 경우에는 타입 관련 오류를 찾기 어려울 수 있습니다.\\n\\n4. **방대한 표준 라이브러리**: 파이썬은 다양한 내장 함수와 모듈을 제공합니다. 데이터 처리, 웹 개발, 과학 컴퓨팅 등 여러 분야에서 활용할 수 있는 라이브러리가 많이 있습니다.\\n\\n5. **멀티플랫폼 지원**: 파이썬은 Windows, macOS, Linux 등 다양한 운영체제에서 실행할 수 있습니다.\\n\\n6. **활발한 커뮤니티와 생태계**: 많은 자료와 튜토리얼, 오픈 소스 패키지가 있어 학습과 개발에 큰 도움이 됩니다. 인기 있는 패키지로는 NumPy, Pandas, Matplotlib, Django, Flask, TensorFlow 등이 있습니다.\\n\\n7. **사용 사례**: 웹 개발, 데이터 분석, 인공지능, 과학적 계산, 자동화 스크립트 등 다방면에서 널리 사용됩니다.\\n\\n파이썬을 배우기 위해서는 온라인 튜토리얼, 공식 문서, 책 등을 활용할 수 있습니다. 커뮤니티에도 질문을 하고 경험을 공유하는 것이 좋습니다.'"
      ]
     },
     "execution_count": 3,
     "metadata": {},
     "output_type": "execute_result"
    }
   ],
   "source": [
    "response.choices[0].message.content"
   ]
  },
  {
   "cell_type": "code",
   "execution_count": 4,
   "id": "092c2afa",
   "metadata": {},
   "outputs": [
    {
     "name": "stdout",
     "output_type": "stream",
     "text": [
      "ChatGPT 답변: {\n",
      "  \"서울\": {\n",
      "    \"weather\": \"맑음\",\n",
      "    \"temperature\": \"20°C\"\n",
      "  },\n",
      "  \"대구\": {\n",
      "    \"weather\": \"흐림\",\n",
      "    \"temperature\": \"22°C\"\n",
      "  }\n",
      "} \n",
      "\n",
      "   \n"
     ]
    }
   ],
   "source": [
    "# 서울, 부산 날씨 정보를 받아서 json으로 추출\n",
    "message = {\"role\":\"user\", \"content\":\"오늘 서울, 대구 날씨를 json형태로 제공해. 키는 weather, temperature 로 설정해\"}\n",
    "response = client.chat.completions.create(\n",
    "    model='gpt-4o-mini', \n",
    "    messages=[message],\n",
    "    response_format={'type':'json_object'}\n",
    ")\n",
    "assitant_reply = response.choices[0].message.content\n",
    "print('ChatGPT 답변:', assitant_reply)"
   ]
  },
  {
   "cell_type": "code",
   "execution_count": 5,
   "id": "a9aca311",
   "metadata": {},
   "outputs": [
    {
     "data": {
      "text/plain": [
       "dict_keys(['서울', '대구'])"
      ]
     },
     "execution_count": 5,
     "metadata": {},
     "output_type": "execute_result"
    }
   ],
   "source": [
    "import json\n",
    "data = json.loads(assitant_reply)\n",
    "data.keys()"
   ]
  },
  {
   "cell_type": "code",
   "execution_count": 6,
   "id": "c0bd40ea",
   "metadata": {},
   "outputs": [
    {
     "name": "stdout",
     "output_type": "stream",
     "text": [
      "ChatGPT 답변: {\"Seoul\": {\"weather\": \"cloudy\", \"temperature\": \"18°C\"}, \"Busan\": {\"weather\": \"sunny\", \"temperature\": \"20°C\"}, \"Daegu\": {\"weather\": \"rainy\", \"temperature\": \"17°C\"}}\n"
     ]
    }
   ],
   "source": [
    "# 서울의 날씨는 현재...이고, 온도는 ...입니다.\n",
    "message = {\"role\":\"user\", \"content\":\"오늘 서울, 부산, 대구 날씨를 json형태로 제공해. 키는 weather, temperature 로 설정해\"}\n",
    "response = client.chat.completions.create(\n",
    "    model='gpt-4o-mini', \n",
    "    messages=[message],\n",
    "    response_format={'type':'json_object'}\n",
    ")\n",
    "assitant_reply = response.choices[0].message.content\n",
    "print('ChatGPT 답변:', assitant_reply)"
   ]
  },
  {
   "cell_type": "code",
   "execution_count": 7,
   "id": "9e82ff28",
   "metadata": {},
   "outputs": [
    {
     "name": "stdout",
     "output_type": "stream",
     "text": [
      "Seoul의 날씨는 cloudy이고, 온도는 18°C입니다.\n",
      "Busan의 날씨는 sunny이고, 온도는 20°C입니다.\n",
      "Daegu의 날씨는 rainy이고, 온도는 17°C입니다.\n"
     ]
    }
   ],
   "source": [
    "# data에 chatgpt에서 받은 값넣기\n",
    "data = json.loads(assitant_reply)\n",
    "\n",
    "for city, info in data.items():\n",
    "    weather = info.get(\"weather\")\n",
    "    temp = info.get(\"temperature\")\n",
    "    print(f\"{city}의 날씨는 {weather}이고, 온도는 {temp}입니다.\")"
   ]
  },
  {
   "cell_type": "code",
   "execution_count": 8,
   "id": "afcb43a0",
   "metadata": {},
   "outputs": [
    {
     "name": "stdout",
     "output_type": "stream",
     "text": [
      "CoT 적용전:  철수가 처음에 가지고 있던 사과는 10개입니다. 그 중 3개를 먹었으므로 남은 사과는 10 - 3 = 7개입니다. 이후 5개를 더 구입했으므로 현재 가지고 있는 사과는 7 + 5 = 12개입니다. \n",
      "\n",
      "따라서 철수가 현재 가지고 있는 사과는 12개입니다.\n"
     ]
    }
   ],
   "source": [
    "# CoT 프롬프트\n",
    "question = '철수는 사과 10개를 가지고 있었는데, 그 중 3개를 먹은 후 5개를 더 구입했습니다. 철수가 현재 가지고 있는 사과는 몇 개일까요?'\n",
    "response = client.chat.completions.create(\n",
    "    messages=[{'role':'user', 'content':question}],\n",
    "    model = 'gpt-4o-mini',\n",
    "    temperature=0\n",
    ")\n",
    "\n",
    "print('CoT 적용전: ', response.choices[0].message.content)"
   ]
  },
  {
   "cell_type": "code",
   "execution_count": 9,
   "id": "bf48962c",
   "metadata": {},
   "outputs": [
    {
     "name": "stdout",
     "output_type": "stream",
     "text": [
      "CoT 적용 후:  단계별로 생각해보겠습니다.\n",
      "\n",
      "1. 철수는 처음에 사과 10개를 가지고 있었습니다.\n",
      "2. 그 중 3개를 먹었습니다. \n",
      "   - 10개 - 3개 = 7개\n",
      "3. 이후에 5개를 더 구입했습니다.\n",
      "   - 7개 + 5개 = 12개\n",
      "\n",
      "따라서, 철수가 현재 가지고 있는 사과는 12개입니다.\n"
     ]
    }
   ],
   "source": [
    "cot_prompt = '(생각을 단계별로 진행해)\\n'+question\n",
    "response = client.chat.completions.create(\n",
    "    messages=[{'role':'user', 'content':cot_prompt}],\n",
    "    model = 'gpt-4o-mini',\n",
    "    temperature=0\n",
    ")\n",
    "\n",
    "print('CoT 적용 후: ', response.choices[0].message.content)"
   ]
  },
  {
   "cell_type": "code",
   "execution_count": 10,
   "id": "aea4eca7",
   "metadata": {},
   "outputs": [
    {
     "name": "stdout",
     "output_type": "stream",
     "text": [
      "정답:  5입니다.\n"
     ]
    }
   ],
   "source": [
    "question = '어떤 수를 3배한 경과에 4를 더하면 19가 됩니다. 그 수는 무엇일까요? 정답만 말하세요'\n",
    "\n",
    "response = client.chat.completions.create(\n",
    "    messages=[{'role':'user', 'content':question}],\n",
    "    model = 'gpt-4o-mini',\n",
    "    temperature=0\n",
    ")\n",
    "print('정답: ', response.choices[0].message.content)"
   ]
  },
  {
   "cell_type": "code",
   "execution_count": 11,
   "id": "251cc583",
   "metadata": {},
   "outputs": [],
   "source": [
    "# self-consistency \n",
    "# random forest 처럼 여러번 돌려보고 가장 적당한 값 가져오는 거 \n",
    "# temperature = 0 -> 고지식하게 대답해!!"
   ]
  },
  {
   "cell_type": "code",
   "execution_count": 12,
   "id": "aedb3c26",
   "metadata": {},
   "outputs": [
    {
     "name": "stdout",
     "output_type": "stream",
     "text": [
      "응답 1 : 주어진 문제를 단계별로 풀어보겠습니다.\n",
      "\n",
      "1. **문제 이해하기**: 어떤 수를 \\( x \\)라고 할 때, 이 수를 3배한 후 4를 더하면 19가 된다고 했습니다. 이를 식으로 표현하면 아래와 같습니다.\n",
      "   \\[\n",
      "   3x + 4 = 19\n",
      "   \\]\n",
      "\n",
      "2. **식 정리하기**: 이 식에서 \\( x \\)를 구하기 위해, 먼저 4를 오른쪽으로 이항합니다.\n",
      "   \\[\n",
      "   3x = 19 - 4\n",
      "   \\]\n",
      "   계산하면,\n",
      "   \\[\n",
      "   3x = 15\n",
      "   \\]\n",
      "\n",
      "3. **양변을 3으로 나누기**: 이제 \\( x \\)를 구하기 위해 양변을 3으로 나눕니다.\n",
      "   \\[\n",
      "   x = \\frac{15}{3}\n",
      "   \\]\n",
      "   계산하면,\n",
      "   \\[\n",
      "   x = 5\n",
      "   \\]\n",
      "\n",
      "4. **결과 확인하기**: 구한 \\( x \\) 값을 원래 문제에 대입하여 확인해봅니다.\n",
      "   \\[\n",
      "   3 \\times 5 + 4 = 15 + 4 = 19\n",
      "   \\]\n",
      "   결과가 19가 맞으므로, 계산이 정확합니다.\n",
      "\n",
      "따라서, 그 수는 \\( \\boxed{5} \\)입니다.\n",
      "응답 2 : 주어진 문제를 수식으로 표현해 보겠습니다. 어떤 수를 \\( x \\)라고 합시다. 문제에서 \"어떤 수를 3배한 경과에 4를 더하면 19가 된다\"라고 했으므로, 다음과 같은 방정식을 세울 수 있습니다.\n",
      "\n",
      "\\[\n",
      "3x + 4 = 19\n",
      "\\]\n",
      "\n",
      "이제 이 방정식을 단계별로 풀어보겠습니다.\n",
      "\n",
      "1. **양변에서 4를 뺍니다.**\n",
      "   \\[\n",
      "   3x + 4 - 4 = 19 - 4\n",
      "   \\]\n",
      "   따라서,\n",
      "   \\[\n",
      "   3x = 15\n",
      "   \\]\n",
      "\n",
      "2. **양변을 3으로 나눕니다.**\n",
      "   \\[\n",
      "   \\frac{3x}{3} = \\frac{15}{3}\n",
      "   \\]\n",
      "   따라서,\n",
      "   \\[\n",
      "   x = 5\n",
      "   \\]\n",
      "\n",
      "따라서, 문제에서 찾고 있는 수는 \\( 5 \\)입니다.\n",
      "응답 3 : 문제를 단계별로 풀어보겠습니다.\n",
      "\n",
      "주어진 조건은 다음과 같습니다:\n",
      "\n",
      "어떤 수 \\( x \\)를 3배한 경과에 4를 더하면 19가 됩니다.\n",
      "\n",
      "이를 수식으로 표현하면 다음과 같습니다:\n",
      "\n",
      "\\[ 3x + 4 = 19 \\]\n",
      "\n",
      "이제 이 방정식을 단계적으로 풀어보겠습니다.\n",
      "\n",
      "1. **양변에서 4를 뺍니다.** \n",
      "\n",
      "\\[\n",
      "3x + 4 - 4 = 19 - 4\n",
      "\\]\n",
      "\\[\n",
      "3x = 15\n",
      "\\]\n",
      "\n",
      "2. **양변을 3으로 나눕니다.**\n",
      "\n",
      "\\[\n",
      "\\frac{3x}{3} = \\frac{15}{3}\n",
      "\\]\n",
      "\\[\n",
      "x = 5\n",
      "\\]\n",
      "\n",
      "따라서, 그 수는 \\( \\boxed{5} \\)입니다. \n",
      "\n",
      "이제 결과를 확인해보겠습니다:\n",
      "\n",
      "\\[\n",
      "3 \\times 5 + 4 = 15 + 4 = 19\n",
      "\\]\n",
      "\n",
      "결과가 맞으므로 구한 답이 올바릅니다. 수는 5입니다.\n",
      "응답 4 : 주어진 문제는 \"어떤 수를 3배한 경과에 4를 더하면 19가 됩니다.\"입니다. 이 문제를 단계별로 풀어보겠습니다.\n",
      "\n",
      "1. **변수 설정하기**: \n",
      "   - 어떤 수를 \\( x \\)라고 할 때, 식은 다음과 같이 표현할 수 있습니다.\n",
      "   \n",
      "     \\[\n",
      "     3x + 4 = 19\n",
      "     \\]\n",
      "\n",
      "2. **방정식 정리하기**: \n",
      "   - 먼저, 4를 양변에서 빼줍니다.\n",
      "\n",
      "     \\[\n",
      "     3x + 4 - 4 = 19 - 4\n",
      "     \\]\n",
      "     \\[\n",
      "     3x = 15\n",
      "     \\]\n",
      "\n",
      "3. **x의 값 구하기**: \n",
      "   - 양변을 3으로 나눕니다.\n",
      "\n",
      "     \\[\n",
      "     x = \\frac{15}{3}\n",
      "     \\]\n",
      "     \\[\n",
      "     x = 5\n",
      "     \\]\n",
      "\n",
      "4. **정답 확인하기**: \n",
      "   - 구한 값 \\( x = 5 \\)가 맞는지 확인해봅니다.\n",
      "   - \\( 3 \\times 5 + 4 = 15 + 4 = 19 \\)\n",
      "\n",
      "따라서, 어떤 수는 **5**입니다.\n",
      "응답 5 : 주어진 문제를 단계별로 풀어보겠습니다. 문제는 \"어떤 수를 3배한 경과에 4를 더하면 19가 된다\"입니다. 이를 수학식으로 표현하면 다음과 같습니다.\n",
      "\n",
      "1. 어떤 수를 x라고 합시다.\n",
      "2. 3배한 경과에 4를 더한 식은: \\(3x + 4\\)입니다.\n",
      "3. 이 식이 19와 같으므로, 아래와 같은 방정식을 설정할 수 있습니다:\n",
      "   \\[\n",
      "   3x + 4 = 19\n",
      "   \\]\n",
      "\n",
      "이제 이 방정식을 풀어보겠습니다.\n",
      "\n",
      "4. 양변에서 4를 빼줍니다:\n",
      "   \\[\n",
      "   3x + 4 - 4 = 19 - 4\n",
      "   \\]\n",
      "   \\[\n",
      "   3x = 15\n",
      "   \\]\n",
      "\n",
      "5. 이제 양변을 3으로 나누어 줍니다:\n",
      "   \\[\n",
      "   x = \\frac{15}{3}\n",
      "   \\]\n",
      "   \\[\n",
      "   x = 5\n",
      "   \\]\n",
      "\n",
      "따라서, 그 수는 **5**입니다. \n",
      "\n",
      "이제 결과를 검증해보겠습니다:\n",
      "- 5를 3배하면 15입니다.\n",
      "- 15에 4를 더하면 19가 됩니다.\n",
      "\n",
      "결과가 맞으므로 최종 답은 5입니다.\n"
     ]
    }
   ],
   "source": [
    "question = '어떤 수를 3배한 경과에 4를 더하면 19가 됩니다. 그 수는 무엇일까요? 단계별로 풀어'\n",
    "message = [{'role':'user', 'content':question}]\n",
    "answers = []\n",
    "\n",
    "for i in range(5):\n",
    "    response = client.chat.completions.create(\n",
    "        messages=message,\n",
    "        model='gpt-4o-mini',\n",
    "        temperature=1.0\n",
    "    )\n",
    "    answer = response.choices[0].message.content.strip()\n",
    "    answers.append(answer)\n",
    "    print(f'응답 {i+1} : {answer}')"
   ]
  },
  {
   "cell_type": "code",
   "execution_count": 13,
   "id": "be03b01c",
   "metadata": {},
   "outputs": [
    {
     "name": "stdout",
     "output_type": "stream",
     "text": [
      "최종 답: \\)입니다.\n"
     ]
    }
   ],
   "source": [
    "final_answer = [ans.split()[-1] for ans in answers]\n",
    "import collections\n",
    "counter = collections.Counter(final_answer)\n",
    "final_ans = counter.most_common(1)[0][0]\n",
    "print(f'최종 답: {final_ans}')"
   ]
  },
  {
   "cell_type": "code",
   "execution_count": 14,
   "id": "92e64172",
   "metadata": {},
   "outputs": [],
   "source": [
    "# reflexion? 자기"
   ]
  },
  {
   "cell_type": "code",
   "execution_count": 15,
   "id": "802e87ed",
   "metadata": {},
   "outputs": [
    {
     "name": "stdout",
     "output_type": "stream",
     "text": [
      "정답입니다.\n"
     ]
    }
   ],
   "source": [
    "question = '7의 2승에 5를 곱한 값은 무엇인가?'\n",
    "response1 = client.chat.completions.create(\n",
    "    messages = [\n",
    "        {'role':'user','content':question}\n",
    "    ],\n",
    "    model='gpt-4o-mini',\n",
    "    temperature = 0\n",
    ")\n",
    "answer = response1.choices[0].message.content.strip() # 모델이 출력한 응답\n",
    "\n",
    "correct_answer = 245# 우리가 주는 피드백\n",
    "if str(correct_answer) in answer: # text\n",
    "    feedback = '정답입니다.'\n",
    "    need_retry = False\n",
    "else:\n",
    "    feedback = '틀렸어요. 힌트는 7의 제곱값을 정확히 구한 다음 곱하세요'\n",
    "    need_retry = True\n",
    "\n",
    "print(feedback)"
   ]
  },
  {
   "cell_type": "code",
   "execution_count": 16,
   "id": "ee59fc63",
   "metadata": {},
   "outputs": [],
   "source": [
    "# 2차 답변 생성 \n",
    "if need_retry:\n",
    "    retry_prompt = f'이전 답변: {answer}, 피드백: {feedback} \\n 다시 답을 구하세요'\n",
    "    response2 = client.chat.completions.create(\n",
    "        messages=[\n",
    "            {'role':'user', 'content':retry_prompt}\n",
    "        ], \n",
    "        model='gpt-4o-mini',\n",
    "        temperature=0\n",
    "    )\n",
    "    answer2 = response2.choices[0].message.content.strip()\n",
    "    print(answer2)"
   ]
  },
  {
   "cell_type": "code",
   "execution_count": 17,
   "id": "cbd6d384",
   "metadata": {},
   "outputs": [],
   "source": [
    "promt = '기후 변화의 원인과 해결 방안에 대해 간략한 에세이를 작성하시오.'"
   ]
  },
  {
   "cell_type": "code",
   "execution_count": 18,
   "id": "a9b451a1",
   "metadata": {},
   "outputs": [
    {
     "name": "stdout",
     "output_type": "stream",
     "text": [
      "1차 에세이:\n",
      " 기후 변화는 현대 사회가 직면한 가장 심각한 문제 중 하나로, 지구의 기온 상승, 해수면 상승, 극단적인 기상 현상 등을 초래하고 있습니다. 이러한 기후 변화의 주된 원인은 인간 활동에 의해 발생하는 온실가스의 증가입니다. 특히, 화석 연료의 연소, 산업 활동, 농업 및 임업 등에서 발생하는 이산화탄소(CO2), 메탄(CH4), 아산화질소(N2O) 등의 온실가스가 대기 중에 축적되어 지구의 온도를 상승시키고 있습니다.\n",
      "\n",
      "기후 변화의 해결 방안은 여러 가지가 있지만, 가장 효과적인 방법은 온실가스 배출을 줄이는 것입니다. 이를 위해 첫째, 재생 가능 에너지의 사용을 확대해야 합니다. 태양광, 풍력, 수력 등 청정 에너지원으로의 전환은 화석 연료 의존도를 줄이고, 온실가스 배출을 감소시킬 수 있습니다. 둘째, 에너지 효율성을 높이는 기술을 개발하고 보급해야 합니다. 건물, 교통수단, 산업 공정에서 에너지를 절약하는 방법을 도입함으로써 전체적인 에너지 소비를 줄일 수 있습니다.\n",
      "\n",
      "셋째, 지속 가능한 농업과 임업을 실천해야 합니다. 농업에서의 비료 사용을 줄이고, 친환경적인 재배 방법을 도입함으로써 메탄과 아산화질소의 배출을 감소시킬 수 있습니다. 또한, 산림 보호와 재조림을 통해 이산화탄소를 흡수하는 자연적인 방법을 활용해야 합니다.\n",
      "\n",
      "마지막으로, 개인과 사회의 인식 변화가 필요합니다. 기후 변화에 대한 교육과 캠페인을 통해 사람들의 인식을 높이고, 일상생활에서의 작은 실천들이 모여 큰 변화를 이끌어낼 수 있음을 강조해야 합니다. 예를 들어, 대중교통 이용, 일회용품 줄이기, 재활용 등의 행동은 모두 기후 변화 완화에 기여할 수 있습니다.\n",
      "\n",
      "결론적으로, 기후 변화는 인류의 지속 가능한 미래를 위협하는 중대한 문제입니다. 이를 해결하기 위해서는 정부, 기업, 개인이 함께 협력하여 온실가스 배출을 줄이고, 지속 가능한 발전을 추구해야 합니다. 기후 변화에 대한 적극적인 대응은 우리 후손에게 건강한 지구를 물려주는 길임을 잊지 말아야 할 것입니다.\n"
     ]
    }
   ],
   "source": [
    "# 에세이 작성 시도\n",
    "prompt = \"기후 변화의 원인과 해결 방안에 대해 간략한 에세이를 작성하시오.\"\n",
    "response_essay1 = client.chat.completions.create(\n",
    "    messages=[\n",
    "        {\"role\": \"user\", \"content\": prompt}\n",
    "    ],\n",
    "    model=\"gpt-4o-mini\",\n",
    "    temperature=0\n",
    ")\n",
    "essay1 = response_essay1.choices[0].message.content\n",
    "print(\"1차 에세이:\\n\", essay1)"
   ]
  },
  {
   "cell_type": "code",
   "execution_count": 19,
   "id": "d87f6b9a",
   "metadata": {},
   "outputs": [
    {
     "name": "stdout",
     "output_type": "stream",
     "text": [
      "2차 에세이:\n",
      " 기후 변화는 현대 사회가 직면한 가장 심각한 문제 중 하나로, 지구의 기온 상승, 해수면 상승, 극단적인 기상 현상 등을 초래하고 있습니다. 이러한 변화는 인류의 생존과 지속 가능한 발전에 중대한 위협이 되고 있으며, 이를 해결하기 위한 긴급한 노력이 필요합니다. 기후 변화의 주된 원인은 인간 활동에 의해 발생하는 온실가스의 증가입니다. 특히, 화석 연료의 연소, 산업 활동, 농업 및 임업 등에서 발생하는 이산화탄소(CO2), 메탄(CH4), 아산화질소(N2O) 등의 온실가스가 대기 중에 축적되어 지구의 온도를 상승시키고 있습니다. 예를 들어, 2021년 기준으로 전 세계 이산화탄소 배출량은 약 36.4 기가톤에 달하며, 이는 산업화 이전 수준보다 약 50% 증가한 수치입니다.\n",
      "\n",
      "기후 변화의 해결 방안은 여러 가지가 있지만, 가장 효과적인 방법은 온실가스 배출을 줄이는 것입니다. 이를 위해 다음과 같은 구체적인 방안을 제시합니다.\n",
      "\n",
      "1. **재생 가능 에너지 확대**: 태양광, 풍력, 수력 등 청정 에너지원으로의 전환을 통해 화석 연료 의존도를 줄이고, 온실가스 배출을 감소시켜야 합니다.\n",
      "\n",
      "2. **에너지 효율성 향상**: 건물, 교통수단, 산업 공정에서 에너지를 절약하는 기술을 개발하고 보급하여 전체적인 에너지 소비를 줄여야 합니다.\n",
      "\n",
      "3. **지속 가능한 농업 실천**: 비료 사용을 줄이고, 친환경적인 재배 방법을 도입하여 메탄과 아산화질소의 배출을 감소시켜야 합니다.\n",
      "\n",
      "4. **산림 보호 및 재조림**: 산림을 보호하고 재조림을 통해 이산화탄소를 흡수하는 자연적인 방법을 활용해야 합니다.\n",
      "\n",
      "5. **전기차 및 대중교통 이용 촉진**: 전기차의 보급을 늘리고 대중교통을 이용하도록 장려하여 교통 부문에서의 온실가스 배출을 줄여야 합니다.\n",
      "\n",
      "6. **탄소세 도입**: 온실가스를 배출하는 기업에 탄소세를 부과하여 배출을 줄이도록 유도해야 합니다.\n",
      "\n",
      "7. **폐기물 관리 개선**: 재활용과 퇴비화를 통해 폐기물에서 발생하는 메탄을 줄이고, 자원 순환을 촉진해야 합니다.\n",
      "\n",
      "8. **친환경 제품 소비 촉진**: 소비자들이 친환경 제품을 선택하도록 유도하고, 기업들이 지속 가능한 제품을 개발하도록 장려해야 합니다.\n",
      "\n",
      "9. **기후 변화 교육 강화**: 학교와 지역 사회에서 기후 변화에 대한 교육을 강화하여 인식을 높이고, 개인의 행동 변화를 유도해야 합니다.\n",
      "\n",
      "10. **국제 협력 강화**: 기후 변화는 전 세계적인 문제이므로, 국가 간 협력을 통해 공동의 목표를 설정하고 이행해야 합니다.\n",
      "\n",
      "결론적으로, 기후 변화는 인류의 지속 가능한 미래를 위협하는 중대한 문제입니다. 이를 해결하기 위해서는 정부, 기업, 개인이 함께 협력하여 온실가스 배출을 줄이고, 지속 가능한 발전을 추구해야 합니다. 기후 변화에 대한 적극적인 대응은 우리 후손에게 건강한 지구를 물려주는 길임을 잊지 말아야 할 것입니다. 기후 변화의 심각성을 인식하고, 구체적인 행동을 통해 변화를 이끌어내는 것이 우리의 책임입니다.\n"
     ]
    }
   ],
   "source": [
    "# 피드백 작성 (여기서는 사람이 수동으로 평가하여 문자열 작성한다고 가정)\n",
    "feedback = (\n",
    "    \"피드백:\\n\"\n",
    "    \" - 서론에서 주제 소개가 부족합니다.\\n\"\n",
    "    \" - 원인에 대한 설명이 모호하며 구체적 예시와 근거를 제시할 통계자료가 없습니다.\\n\"\n",
    "    \" - 현실적인 해결 방안을 최소 10가지 이상 제시해주세요.\\n\"\n",
    "#    \" - bullet point가 아니라 essay로 써줘\"\n",
    "    \"위 사항을 반영하여 에세이를 수정해주세요.\"\n",
    ")\n",
    "# 개선 프롬프트 구성\n",
    "retry_prompt = essay1 + \"\\n\\n\" + feedback\n",
    "response_essay2 = client.chat.completions.create(\n",
    "    messages=[\n",
    "        {\"role\": \"user\", \"content\": retry_prompt}\n",
    "    ],\n",
    "    model=\"gpt-4o-mini\",\n",
    "    temperature=0\n",
    ")\n",
    "essay2 = response_essay2.choices[0].message.content\n",
    "print(\"2차 에세이:\\n\", essay2)"
   ]
  },
  {
   "cell_type": "code",
   "execution_count": null,
   "id": "34a94c67",
   "metadata": {},
   "outputs": [],
   "source": []
  }
 ],
 "metadata": {
  "kernelspec": {
   "display_name": "prompting_env",
   "language": "python",
   "name": "python3"
  },
  "language_info": {
   "codemirror_mode": {
    "name": "ipython",
    "version": 3
   },
   "file_extension": ".py",
   "mimetype": "text/x-python",
   "name": "python",
   "nbconvert_exporter": "python",
   "pygments_lexer": "ipython3",
   "version": "3.12.11"
  }
 },
 "nbformat": 4,
 "nbformat_minor": 5
}
