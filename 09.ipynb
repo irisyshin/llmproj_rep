{
 "cells": [
  {
   "cell_type": "markdown",
   "id": "d69e8b92",
   "metadata": {},
   "source": [
    "LCEL LangChainExpressionLanguage\n",
    "프롬프트 > LLM input > chain input > output > prompt\n",
    "\n",
    "Runnable 인터페이스 > 랭체인 구현하고 있다. "
   ]
  },
  {
   "cell_type": "code",
   "execution_count": null,
   "id": "4aedcb60",
   "metadata": {},
   "outputs": [],
   "source": [
    "# SequentialChain"
   ]
  },
  {
   "cell_type": "code",
   "execution_count": 2,
   "id": "8d2a6359",
   "metadata": {},
   "outputs": [
    {
     "data": {
      "text/plain": [
       "ChatOpenAI(client=<openai.resources.chat.completions.completions.Completions object at 0x000001F334D4D0A0>, async_client=<openai.resources.chat.completions.completions.AsyncCompletions object at 0x000001F3336C8FE0>, root_client=<openai.OpenAI object at 0x000001F3337FAF30>, root_async_client=<openai.AsyncOpenAI object at 0x000001F334DDB710>, model_name='gpt-4o-mini', model_kwargs={}, openai_api_key=SecretStr('**********'))"
      ]
     },
     "execution_count": 2,
     "metadata": {},
     "output_type": "execute_result"
    }
   ],
   "source": [
    "from langchain_openai import ChatOpenAI\n",
    "llm = ChatOpenAI(model='gpt-4o-mini')\n",
    "llm"
   ]
  },
  {
   "cell_type": "code",
   "execution_count": 3,
   "id": "29388bf8",
   "metadata": {},
   "outputs": [
    {
     "name": "stderr",
     "output_type": "stream",
     "text": [
      "C:\\Users\\Admin\\AppData\\Local\\Temp\\ipykernel_20036\\1215960527.py:5: LangChainDeprecationWarning: The class `LLMChain` was deprecated in LangChain 0.1.17 and will be removed in 1.0. Use :meth:`~RunnableSequence, e.g., `prompt | llm`` instead.\n",
      "  chain = LLMChain(llm=llm, prompt=template)\n"
     ]
    },
    {
     "data": {
      "text/plain": [
       "LLMChain(verbose=False, prompt=PromptTemplate(input_variables=['city'], input_types={}, partial_variables={}, template='{city}의 랜드마크는 어디인가요?'), llm=ChatOpenAI(client=<openai.resources.chat.completions.completions.Completions object at 0x000001F334D4D0A0>, async_client=<openai.resources.chat.completions.completions.AsyncCompletions object at 0x000001F3336C8FE0>, root_client=<openai.OpenAI object at 0x000001F3337FAF30>, root_async_client=<openai.AsyncOpenAI object at 0x000001F334DDB710>, model_name='gpt-4o-mini', model_kwargs={}, openai_api_key=SecretStr('**********')), output_parser=StrOutputParser(), llm_kwargs={})"
      ]
     },
     "execution_count": 3,
     "metadata": {},
     "output_type": "execute_result"
    }
   ],
   "source": [
    "from langchain.prompts import PromptTemplate\n",
    "from langchain.chains import LLMChain\n",
    "\n",
    "template = PromptTemplate.from_template(\"{city}의 랜드마크는 어디인가요?\")\n",
    "chain = LLMChain(llm=llm, prompt=template)\n",
    "chain"
   ]
  },
  {
   "cell_type": "code",
   "execution_count": 4,
   "id": "445a8771",
   "metadata": {},
   "outputs": [
    {
     "data": {
      "text/plain": [
       "{'city': '파리',\n",
       " 'text': '파리에는 여러 유명한 랜드마크가 있습니다. 그 중 일부를 소개하자면:\\n\\n1. **에펠탑(Eiffel Tower)** - 파리의 상징적인 구조물로, 1889년에 세워졌습니다.\\n2. **루브르 박물관(Louvre Museum)** - 세계에서 가장 큰 미술관 중 하나로, 모나리자와 같은 유명한 작품이 전시되어 있습니다.\\n3. **노트르담 대성당(Notre-Dame Cathedral)** - 고딕 건축의 걸작으로, 파리의 역사적인 중심지에 위치하고 있습니다. 현재 복구 작업이 진행 중입니다.\\n4. **샹젤리제 거리(Champs-Élysées)** - 유명한 쇼핑 거리로, 개선문(Arc de Triomphe)과 연결되어 있습니다.\\n5. **몽마르트 언덕(Montmartre)** - 예술가들이 많이 활동했던 지역으로, 사크레 쾨르 대성당(Basilica of the Sacré-Cœur)이 위치하고 있습니다.\\n6. **베르사유 궁전(Palace of Versailles)** - 파리 외곽에 위치한 화려한 궁전으로, 정원과 내부 장식이 아름답습니다.\\n\\n이 외에도 파리에는 많은 매력적인 장소가 있습니다.'}"
      ]
     },
     "execution_count": 4,
     "metadata": {},
     "output_type": "execute_result"
    }
   ],
   "source": [
    "chain.invoke({'city':'파리'})\n",
    "# 프롬프트에 값 할당, 결과 나옴 "
   ]
  },
  {
   "cell_type": "code",
   "execution_count": 5,
   "id": "8ced66ba",
   "metadata": {},
   "outputs": [],
   "source": [
    "# LCEL 파이프라인구성 "
   ]
  },
  {
   "cell_type": "code",
   "execution_count": null,
   "id": "28cef295",
   "metadata": {},
   "outputs": [
    {
     "data": {
      "text/plain": [
       "PromptTemplate(input_variables=['city'], input_types={}, partial_variables={}, template='{city}의 랜드마크는 어디인가요?')\n",
       "| PromptTemplate(input_variables=['city'], input_types={}, partial_variables={}, template='{city}의 랜드마크는 어디인가요?')\n",
       "| ChatOpenAI(client=<openai.resources.chat.completions.completions.Completions object at 0x000001F334D4D0A0>, async_client=<openai.resources.chat.completions.completions.AsyncCompletions object at 0x000001F3336C8FE0>, root_client=<openai.OpenAI object at 0x000001F3337FAF30>, root_async_client=<openai.AsyncOpenAI object at 0x000001F334DDB710>, model_name='gpt-4o-mini', model_kwargs={}, openai_api_key=SecretStr('**********'))"
      ]
     },
     "execution_count": 7,
     "metadata": {},
     "output_type": "execute_result"
    }
   ],
   "source": [
    "chain_lcel = template | template | llm # 뒤에 파이프라인을 구성하고 싶으면 쭉쭉 연결하면 됨 \n",
    "chain_lcel"
   ]
  },
  {
   "cell_type": "code",
   "execution_count": 9,
   "id": "1c7df319",
   "metadata": {},
   "outputs": [
    {
     "data": {
      "text/plain": [
       "AIMessage(content='파리의 랜드마크로는 대표적으로 에펠탑, 루브르 박물관, 노트르담 대성당, 아르크 드 트리옹프(트리움프 문) 등이 있습니다. 이 외에도 몽마르뜨 언덕, 샹젤리제 거리, 오르세이 미술관 등도 유명한 관광 명소입니다.', additional_kwargs={'refusal': None}, response_metadata={'token_usage': {'completion_tokens': 86, 'prompt_tokens': 31, 'total_tokens': 117, 'completion_tokens_details': {'accepted_prediction_tokens': 0, 'audio_tokens': 0, 'reasoning_tokens': 0, 'rejected_prediction_tokens': 0}, 'prompt_tokens_details': {'audio_tokens': 0, 'cached_tokens': 0}}, 'model_name': 'gpt-4o-mini-2024-07-18', 'system_fingerprint': 'fp_8bda4d3a2c', 'id': 'chatcmpl-CDMyp0yWHlWLUTjpzmiSqooD9G5Vi', 'service_tier': 'default', 'finish_reason': 'stop', 'logprobs': None}, id='run--1bc540f1-8993-4eea-989c-0d0de43a3e59-0', usage_metadata={'input_tokens': 31, 'output_tokens': 86, 'total_tokens': 117, 'input_token_details': {'audio': 0, 'cache_read': 0}, 'output_token_details': {'audio': 0, 'reasoning': 0}})"
      ]
     },
     "execution_count": 9,
     "metadata": {},
     "output_type": "execute_result"
    }
   ],
   "source": [
    "chain_lcel.invoke({'city':'파리'})"
   ]
  },
  {
   "cell_type": "code",
   "execution_count": 12,
   "id": "0e86fad0",
   "metadata": {},
   "outputs": [
    {
     "data": {
      "text/plain": [
       "SequentialChain(verbose=False, chains=[LLMChain(verbose=True, prompt=PromptTemplate(input_variables=['city'], input_types={}, partial_variables={}, template='{city}의 랜드마크 1개만 알려주세요. 설명은 필요없고 이름만 1개 알려주세요'), llm=ChatOpenAI(client=<openai.resources.chat.completions.completions.Completions object at 0x000001F334D4D0A0>, async_client=<openai.resources.chat.completions.completions.AsyncCompletions object at 0x000001F3336C8FE0>, root_client=<openai.OpenAI object at 0x000001F3337FAF30>, root_async_client=<openai.AsyncOpenAI object at 0x000001F334DDB710>, model_name='gpt-4o-mini', model_kwargs={}, openai_api_key=SecretStr('**********')), output_key='landmark', output_parser=StrOutputParser(), llm_kwargs={}), LLMChain(verbose=False, prompt=PromptTemplate(input_variables=['landmark', 'transport'], input_types={}, partial_variables={}, template='{landmark}에 {transport}로 가는 방법이 무엇인가요'), llm=ChatOpenAI(client=<openai.resources.chat.completions.completions.Completions object at 0x000001F334D4D0A0>, async_client=<openai.resources.chat.completions.completions.AsyncCompletions object at 0x000001F3336C8FE0>, root_client=<openai.OpenAI object at 0x000001F3337FAF30>, root_async_client=<openai.AsyncOpenAI object at 0x000001F334DDB710>, model_name='gpt-4o-mini', model_kwargs={}, openai_api_key=SecretStr('**********')), output_parser=StrOutputParser(), llm_kwargs={})], input_variables=['city', 'transport'], output_variables=['text'])"
      ]
     },
     "execution_count": 12,
     "metadata": {},
     "output_type": "execute_result"
    }
   ],
   "source": [
    "# SequentialChain의 구성 \n",
    "from langchain.chains import SequentialChain\n",
    "\n",
    "prompt1 = PromptTemplate.from_template('{city}의 랜드마크 1개만 알려주세요. 설명은 필요없고 이름만 1개 알려주세요')\n",
    "prompt2 =PromptTemplate.from_template('{landmark}에 {transport}로 가는 방법이 무엇인가요')\n",
    "\n",
    "chain1 = LLMChain(llm=llm, prompt=prompt1, output_key='landmark', verbose=True)\n",
    "chain2 = LLMChain(llm=llm, prompt=prompt2)\n",
    "seq_chain = SequentialChain(chains=[chain1, chain2], input_variables=['city', 'transport'])\n",
    "seq_chain"
   ]
  },
  {
   "cell_type": "code",
   "execution_count": 13,
   "id": "0f5444be",
   "metadata": {},
   "outputs": [
    {
     "name": "stdout",
     "output_type": "stream",
     "text": [
      "\n",
      "\n",
      "\u001b[1m> Entering new LLMChain chain...\u001b[0m\n",
      "Prompt after formatting:\n",
      "\u001b[32;1m\u001b[1;3mseoul의 랜드마크 1개만 알려주세요. 설명은 필요없고 이름만 1개 알려주세요\u001b[0m\n",
      "\n",
      "\u001b[1m> Finished chain.\u001b[0m\n"
     ]
    },
    {
     "data": {
      "text/plain": [
       "{'city': 'seoul',\n",
       " 'transport': '지하철',\n",
       " 'text': '경복궁에 지하철로 가는 방법은 다음과 같습니다:\\n\\n1. **지하철 3호선 이용**: \\n   - **정류장**: 경복궁역\\n   - **출구**: 5번 출구로 나가면 경복궁 정문까지 도보로 약 5분 정도 걸립니다.\\n\\n2. **지하철 5호선 이용**:\\n   - **정류장**: 광화문역\\n   - **환승**: 5호선에서 하차 후 1호선으로 환승하여 서울역으로 가는 경우, 잠시 내려서 3호선으로 환승할 수 있습니다.\\n   - **출구**: 광화문역에서 2번 출구로 나와서 경복궁까지 도보로 이동할 수 있습니다.\\n\\n경복궁역 또는 광화문역에서 하차 후, 안내 표지를 따라 경복궁으로 가면 됩니다. 즐거운 여행 되세요!'}"
      ]
     },
     "execution_count": 13,
     "metadata": {},
     "output_type": "execute_result"
    }
   ],
   "source": [
    "seq_chain.invoke({'city':'seoul', 'transport':'지하철'})"
   ]
  },
  {
   "cell_type": "markdown",
   "id": "b87d45e0",
   "metadata": {},
   "source": [
    "# cot일떄 프롬프트를 이렇게 구성하면 된다 "
   ]
  }
 ],
 "metadata": {
  "kernelspec": {
   "display_name": "prompting_env",
   "language": "python",
   "name": "python3"
  },
  "language_info": {
   "codemirror_mode": {
    "name": "ipython",
    "version": 3
   },
   "file_extension": ".py",
   "mimetype": "text/x-python",
   "name": "python",
   "nbconvert_exporter": "python",
   "pygments_lexer": "ipython3",
   "version": "3.12.11"
  }
 },
 "nbformat": 4,
 "nbformat_minor": 5
}
