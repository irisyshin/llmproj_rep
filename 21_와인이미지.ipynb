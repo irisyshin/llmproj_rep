{
 "cells": [
  {
   "cell_type": "code",
   "execution_count": null,
   "id": "553ce976",
   "metadata": {},
   "outputs": [],
   "source": [
    "# AI 소믈리에 페르소나"
   ]
  },
  {
   "cell_type": "code",
   "execution_count": 6,
   "id": "db1ce164",
   "metadata": {},
   "outputs": [],
   "source": [
    "from openai import OpenAI\n",
    "client = OpenAI()\n",
    "\n",
    "response = client.chat.completions.create(\n",
    "  model=\"gpt-4o\",\n",
    "  messages=[\n",
    "    {\n",
    "      \"role\": \"system\",\n",
    "      \"content\": [\n",
    "        {\n",
    "          \"type\": \"text\",\n",
    "          \"text\": \"You are an expert sommelier with extensive knowledge in wine, wine pairing, and \\nthe intricacies of food and beverage service. Your primary role is to assist users \\nin selecting the best wines and pairing them perfectly with meals. You have a deep \\nunderstanding of various wine regions, grape varieties, wine production methods, and \\ncurrent trends in the industry. You possess a refined palate, able to discern subtle \\nflavors and characteristics in wines. Your advice is always clear, approachable, and \\ntailored to each user’s preferences and specific dining context. You also educate users \\non wine appreciation, proper wine service, and the art of creating a harmonious dining \\nexperience. Your demeanor is professional, courteous, and passionate about wine culture, \\naiming to make each wine selection and pairing a memorable experience for users.\"\n",
    "        }\n",
    "      ]\n",
    "    },\n",
    "    {\n",
    "      \"role\": \"user\",\n",
    "      \"content\": [\n",
    "        {\n",
    "          \"type\": \"text\",\n",
    "          \"text\": \"이 와인에 어울리는 요리에는 어떤 것들이 있을까요?\"\n",
    "        },\n",
    "        {\n",
    "          \"type\": \"image_url\",\n",
    "          \"image_url\": {\n",
    "            \"url\": \"https://images.vivino.com/thumbs/Z90I3--JRKWlpMA8wdLY-Q_pb_x600.png\"\n",
    "          }\n",
    "        }\n",
    "      ]\n",
    "    },\n",
    "    {\n",
    "      \"role\": \"assistant\",\n",
    "      \"content\": [\n",
    "        {\n",
    "          \"type\": \"text\",\n",
    "          \"text\": \"Primitivo는 풍부하고 과일 향이 강한 적포도주로, 이 와인에 어울리는 요리로는 다음과 같은 것들이 있습니다:\\n\\n1. **바베큐 요리**: 특히 돼지고기나 소고기 바베큐는 Primitivo의 농축된 과일 맛과 잘 어울립니다.\\n\\n2. **이탈리안 요리**: 토마토 소스가 들어간 파스타 요리나 피자가 좋습니다. 특히 페퍼로니 피자 같은 풍미가 강한 요리와 잘 어울립니다.\\n\\n3. **구운 고기**: 양고기나 소고기 스테이크처럼 풍부한 맛의 고기 요리도 좋은 선택입니다.\\n\\n4. **치즈**: 체다, 파르미지아노 레지아노, 고르곤졸라 같은 진한 맛의 치즈와 잘 매칭됩니다.\\n\\n5. **향신료가 첨가된 요리**: 허브나 향신료가 사용된 지중해식 요리와도 잘 맞습니다.\\n\\nPrimitivo의 짙은 풍미와 균형을 이루는 요리들을 시도해 보세요.\"\n",
    "        }\n",
    "      ]\n",
    "    }\n",
    "  ],\n",
    "  response_format={\n",
    "    \"type\": \"text\"\n",
    "  },\n",
    "  temperature=1,\n",
    "  max_completion_tokens=2048,\n",
    "  top_p=1,\n",
    "  frequency_penalty=0,\n",
    "  presence_penalty=0\n",
    ")"
   ]
  },
  {
   "cell_type": "code",
   "execution_count": 7,
   "id": "729c4ca4",
   "metadata": {},
   "outputs": [
    {
     "data": {
      "text/plain": [
       "[Choice(finish_reason='stop', index=0, logprobs=None, message=ChatCompletionMessage(content='Primitivo에 어울리는 요리로는 다음과 같은 것들이 있습니다:\\n\\n1. **바베큐 요리**: 돼지고기나 소고기 바베큐가 Primitivo의 농축된 과일 맛과 잘 어울립니다.\\n\\n2. **이탈리안 요리**: 토마토 소스가 들어간 파스타나 피자가 좋습니다. 특히 페퍼로니 피자가 잘 맞습니다.\\n\\n3. **구운 고기**: 양고기나 소고기 스테이크와 같은 고기 요리와 잘 어울립니다.\\n\\n4. **치즈**: 체다, 파르미지아노 레지아노, 고르곤졸라 같은 진한 맛의 치즈와 잘 매칭됩니다.\\n\\n5. **지중해식 요리**: 허브와 향신료가 들어간 요리와도 잘 맞습니다.\\n\\n다양한 요리와 함께 Primitivo의 깊은 풍미를 즐겨보세요.', refusal=None, role='assistant', annotations=[], audio=None, function_call=None, tool_calls=None))]"
      ]
     },
     "execution_count": 7,
     "metadata": {},
     "output_type": "execute_result"
    }
   ],
   "source": [
    "response.choices"
   ]
  },
  {
   "cell_type": "code",
   "execution_count": 8,
   "id": "4326ae50",
   "metadata": {},
   "outputs": [
    {
     "name": "stdout",
     "output_type": "stream",
     "text": [
      "Primitivo에 어울리는 요리로는 다음과 같은 것들이 있습니다:\n",
      "\n",
      "1. **바베큐 요리**: 돼지고기나 소고기 바베큐가 Primitivo의 농축된 과일 맛과 잘 어울립니다.\n",
      "\n",
      "2. **이탈리안 요리**: 토마토 소스가 들어간 파스타나 피자가 좋습니다. 특히 페퍼로니 피자가 잘 맞습니다.\n",
      "\n",
      "3. **구운 고기**: 양고기나 소고기 스테이크와 같은 고기 요리와 잘 어울립니다.\n",
      "\n",
      "4. **치즈**: 체다, 파르미지아노 레지아노, 고르곤졸라 같은 진한 맛의 치즈와 잘 매칭됩니다.\n",
      "\n",
      "5. **지중해식 요리**: 허브와 향신료가 들어간 요리와도 잘 맞습니다.\n",
      "\n",
      "다양한 요리와 함께 Primitivo의 깊은 풍미를 즐겨보세요.\n"
     ]
    }
   ],
   "source": [
    "print(\"\".join([choice.message.content for choice in response.choices]))"
   ]
  },
  {
   "cell_type": "code",
   "execution_count": 9,
   "id": "6732bd25",
   "metadata": {},
   "outputs": [],
   "source": [
    "# 요리 추천 "
   ]
  },
  {
   "cell_type": "code",
   "execution_count": 15,
   "id": "59d5602c",
   "metadata": {},
   "outputs": [],
   "source": [
    "from openai import OpenAI\n",
    "client = OpenAI()\n",
    "\n",
    "def recommend_dishes(query):\n",
    "    response = client.chat.completions.create(\n",
    "    model=\"gpt-4o-mini\",\n",
    "    messages=[\n",
    "        {\n",
    "        \"role\": \"system\",\n",
    "        \"content\": [\n",
    "            {\n",
    "            \"type\": \"text\",\n",
    "            \"text\": \"You are an expert sommelier with extensive knowledge in wine, wine pairing, and \\nthe intricacies of food and beverage service. Your primary role is to assist users \\nin selecting the best wines and pairing them perfectly with meals. You have a deep \\nunderstanding of various wine regions, grape varieties, wine production methods, and \\ncurrent trends in the industry. You possess a refined palate, able to discern subtle \\nflavors and characteristics in wines. Your advice is always clear, approachable, and \\ntailored to each user’s preferences and specific dining context. You also educate users \\non wine appreciation, proper wine service, and the art of creating a harmonious dining \\nexperience. Your demeanor is professional, courteous, and passionate about wine culture, \\naiming to make each wine selection and pairing a memorable experience for users.\"\n",
    "            }\n",
    "        ]\n",
    "        },\n",
    "        {\n",
    "        \"role\": \"user\",\n",
    "        \"content\": [\n",
    "            {\n",
    "                \"type\": \"text\",\n",
    "                \"text\": query.get('text')\n",
    "            },\n",
    "            {\n",
    "            \"type\": \"image_url\",\n",
    "            \"image_url\": {\n",
    "                \"url\": \"https://images.vivino.com/thumbs/Z90I3--JRKWlpMA8wdLY-Q_pb_x600.png\"\n",
    "                } \n",
    "            }\n",
    "            ]\n",
    "        }\n",
    "    ],\n",
    "    response_format={\n",
    "        \"type\": \"text\"\n",
    "    },\n",
    "    temperature=1,\n",
    "    max_completion_tokens=2048,\n",
    "    top_p=1,\n",
    "    frequency_penalty=0,\n",
    "    presence_penalty=0\n",
    "    )\n",
    "    return \"\".join([choice.message.content for choice in response.choices])"
   ]
  },
  {
   "cell_type": "code",
   "execution_count": 16,
   "id": "d57831f2",
   "metadata": {},
   "outputs": [
    {
     "data": {
      "text/plain": [
       "'Masserì Primitivo는 주로 진하고 풍부한 과일향(블랙베리, 자두 포함)과 스파이스 노트를 가진 와인입니다. 이 와인과 잘 어울리는 요리의 몇 가지 예는 다음과 같습니다:\\n\\n1. **레드미트**: 스테이크, 양고기나 소고기 구이와 잘 어울립니다. 특히 소스를 곁들인 경우 더욱 좋습니다.\\n\\n2. **진한 파스타**: 토마토 소스, 리코타, 또는 미트 소스를 기반으로 한 파스타 요리와 훌륭한 조화를 이룹니다.\\n\\n3. **대구구이**: 고소한 향이 나는 조리법과 모든 조화가 잘 어우러집니다.\\n\\n4. **장아치 요리**: 이탈리안 요리의 여러 장아치가 있는 안티파스티 플래터와 함께하시면 좋습니다.\\n\\n5. **향신료가 있는 요리**: 커리 또는 바비큐 같은 매운 요리와도 잘 어울립니다.\\n\\n6. **치즈**: 숙성된 체다나 고르곤졸라 같은 강한 치즈와 함께하면 더욱 풍부한 맛을 경험할 수 있습니다.\\n\\n이러한 요리들과 함께 제공하면 Masserì Primitivo의 풍미를 더욱 즐길 수 있습니다.'"
      ]
     },
     "execution_count": 16,
     "metadata": {},
     "output_type": "execute_result"
    }
   ],
   "source": [
    "query = {'text':'이 와인에 어울리는 요리에는 어떤 것들이 있을까요?', \n",
    "         'image_url':'https://images.vivino.com/thumbs/Z90I3--JRKWlpMA8wdLY-Q_pb_x600.png'}\n",
    "response = recommend_dishes(query)\n",
    "response"
   ]
  },
  {
   "cell_type": "code",
   "execution_count": null,
   "id": "92efca79",
   "metadata": {},
   "outputs": [],
   "source": []
  }
 ],
 "metadata": {
  "kernelspec": {
   "display_name": "prompting_env",
   "language": "python",
   "name": "python3"
  },
  "language_info": {
   "codemirror_mode": {
    "name": "ipython",
    "version": 3
   },
   "file_extension": ".py",
   "mimetype": "text/x-python",
   "name": "python",
   "nbconvert_exporter": "python",
   "pygments_lexer": "ipython3",
   "version": "3.12.11"
  }
 },
 "nbformat": 4,
 "nbformat_minor": 5
}
