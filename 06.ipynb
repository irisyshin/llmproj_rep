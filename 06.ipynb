{
 "cells": [
  {
   "cell_type": "code",
   "execution_count": 1,
   "id": "67763979",
   "metadata": {},
   "outputs": [
    {
     "data": {
      "text/plain": [
       "'0.3.27'"
      ]
     },
     "execution_count": 1,
     "metadata": {},
     "output_type": "execute_result"
    }
   ],
   "source": [
    "import langchain\n",
    "langchain.__version__"
   ]
  },
  {
   "cell_type": "code",
   "execution_count": 2,
   "id": "81a66361",
   "metadata": {},
   "outputs": [],
   "source": [
    "# invoke()"
   ]
  },
  {
   "cell_type": "code",
   "execution_count": 3,
   "id": "0dc8315d",
   "metadata": {},
   "outputs": [
    {
     "data": {
      "text/plain": [
       "ChatOpenAI(client=<openai.resources.chat.completions.completions.Completions object at 0x0000017BC45A8A70>, async_client=<openai.resources.chat.completions.completions.AsyncCompletions object at 0x0000017BC71103B0>, root_client=<openai.OpenAI object at 0x0000017BC56B37A0>, root_async_client=<openai.AsyncOpenAI object at 0x0000017BC6C143E0>, model_name='gpt-4o-mini', model_kwargs={}, openai_api_key=SecretStr('**********'))"
      ]
     },
     "execution_count": 3,
     "metadata": {},
     "output_type": "execute_result"
    }
   ],
   "source": [
    "from langchain_openai import ChatOpenAI\n",
    "llm = ChatOpenAI(model='gpt-4o-mini')\n",
    "llm"
   ]
  },
  {
   "cell_type": "code",
   "execution_count": 5,
   "id": "37ef26e9",
   "metadata": {},
   "outputs": [
    {
     "data": {
      "text/plain": [
       "AIMessage(content=\"서울에서 대표적인 음식을 맛볼 수 있는 레스토랑 5곳을 추천해 드립니다.\\n\\n1. **광장시장** - 여러 전통 음식을 한곳에서 즐길 수 있는 재래시장이며, 특히 마약김밥, 빈대떡, 그리고 다양한 길거리 음식을 맛볼 수 있습니다.\\n\\n2. **부암동의 한정식집 (예: 중식당 동이)** - 한정식은 한국 전통음식을 여러 가지 담아내는 코스 요리로, 고급스러운 분위기에서 다양한 반찬과 함께 즐길 수 있습니다.\\n\\n3. **평양냉면** - 평양냉면으로 유명한 '을밀대'는 시원한 육수와 함께 메밀면을 즐길 수 있는 곳입니다. 특히 여름철에 인기가 많습니다.\\n\\n4. **이태원 '한방삼계탕'** - 전통적인 삼계탕을 한방 재료로 끓여내며 건강에 좋은 영양식을 제공하는 곳입니다. 보양식으로 훌륭합니다.\\n\\n5. **삼겹살 전문점 (예: 수육국밥, 삼겹살 골목)** - 서울에는 수많은 삼겹살 전문점이 있으며, 질 좋은 고기를 고객이 직접 구워먹을 수 있는 곳들이 많습니다. 특히 홍대나 강남 지역에서 유명한 집들이 많습니다.\\n\\n이 밖에도 서울에는 다양한 음식 문화가 있으니, 다양한 맛을 경험해보시길 바랍니다!\", additional_kwargs={'refusal': None}, response_metadata={'token_usage': {'completion_tokens': 330, 'prompt_tokens': 25, 'total_tokens': 355, 'completion_tokens_details': {'accepted_prediction_tokens': 0, 'audio_tokens': 0, 'reasoning_tokens': 0, 'rejected_prediction_tokens': 0}, 'prompt_tokens_details': {'audio_tokens': 0, 'cached_tokens': 0}}, 'model_name': 'gpt-4o-mini-2024-07-18', 'system_fingerprint': 'fp_8bda4d3a2c', 'id': 'chatcmpl-CDL5WHrxnguiFoieZIePAl8DQBPf7', 'service_tier': 'default', 'finish_reason': 'stop', 'logprobs': None}, id='run--a33fab0e-cab0-4673-a8dd-e61e464e33b7-0', usage_metadata={'input_tokens': 25, 'output_tokens': 330, 'total_tokens': 355, 'input_token_details': {'audio': 0, 'cache_read': 0}, 'output_token_details': {'audio': 0, 'reasoning': 0}})"
      ]
     },
     "execution_count": 5,
     "metadata": {},
     "output_type": "execute_result"
    }
   ],
   "source": [
    "from langchain_core.messages import HumanMessage\n",
    "message=[\n",
    "    HumanMessage(content='서울을 대표하는 음식을 맛볼 수 있는 레스토랑 5개 추천해주세요')\n",
    "]\n",
    "response = llm.invoke(message)\n",
    "response"
   ]
  },
  {
   "cell_type": "markdown",
   "id": "b7bd89fe",
   "metadata": {},
   "source": [
    "#caching \n",
    "1. inmemorycache\n",
    "2. cachme db"
   ]
  },
  {
   "cell_type": "code",
   "execution_count": 7,
   "id": "979d2612",
   "metadata": {},
   "outputs": [],
   "source": [
    "from langchain_core.globals import set_llm_cache\n",
    "from langchain_core.caches import InMemoryCache\n",
    "\n",
    "set_llm_cache(InMemoryCache())\n"
   ]
  },
  {
   "cell_type": "code",
   "execution_count": null,
   "id": "58c1fb3a",
   "metadata": {},
   "outputs": [
    {
     "data": {
      "text/plain": [
       "AIMessage(content='서울에서 대표적인 음식을 맛볼 수 있는 레스토랑 5곳을 추천해 드릴게요.\\n\\n1. **광장시장 (Gwangjang Market)** \\n   - 전통시장인 광장시장은 김밥, 빈대떡, 막걸리 등 다양한 한국 전통 음식을 즐길 수 있는 곳입니다. 여러 종류의 간편식이 모여 있어 다양한 맛을 경험할 수 있습니다.\\n\\n2. **토속촌 삼계탕 (Tosokchon Samgyetang)**\\n   - 삼계탕의 명소로, 한방 재료와 함께 푹 고아낸 영양 만점의 삼계탕을 제공합니다. 특히 여름철 보양식으로 인기입니다.\\n\\n3. **명동 교자 (Myeongdong Kyoja)**\\n   - 명동에서 유명한 칼국수 전문점으로, 따뜻한 국물과 쫄깃한 면발을 즐길 수 있습니다. 만두도 별미로 추천합니다.\\n\\n4. **부산아지매 (Busan Ajimae)**\\n   - 서울에서 즐길 수 있는 해물찜, 낙지볶음 등을 제공하는 식당으로, 다채로운 해산물 요리를 경험할 수 있습니다.\\n\\n5. **한일관 (Hanilkwan)**\\n   - 전통적인 한국 고급 한식을 제공하는 레스토랑으로, 비빔밥, 갈비찜, 전통 찌개 등 다양한 한식 메뉴를 맛볼 수 있습니다.\\n\\n이 외에도 서울에는 많은 맛집이 있으니, 다양한 음식을 탐험해보시길 추천합니다!', additional_kwargs={'refusal': None}, response_metadata={'token_usage': {'completion_tokens': 352, 'prompt_tokens': 25, 'total_tokens': 377, 'completion_tokens_details': {'accepted_prediction_tokens': 0, 'audio_tokens': 0, 'reasoning_tokens': 0, 'rejected_prediction_tokens': 0}, 'prompt_tokens_details': {'audio_tokens': 0, 'cached_tokens': 0}}, 'model_name': 'gpt-4o-mini-2024-07-18', 'system_fingerprint': 'fp_8bda4d3a2c', 'id': 'chatcmpl-CDL9KVT9qWiO4LX3uKM7ANPnNuXFW', 'service_tier': 'default', 'finish_reason': 'stop', 'logprobs': None}, id='run--d4cf7cf6-dc7c-4074-8a8c-c946902dbdae-0', usage_metadata={'input_tokens': 25, 'output_tokens': 352, 'total_tokens': 377, 'input_token_details': {'audio': 0, 'cache_read': 0}, 'output_token_details': {'audio': 0, 'reasoning': 0}})"
      ]
     },
     "execution_count": 8,
     "metadata": {},
     "output_type": "execute_result"
    }
   ],
   "source": [
    "response = llm.invoke(message)\n",
    "response\n",
    "# 저장해뒀다가 응답, 메세지가 똑같으면 더 빠름 \n",
    "# 치명적인 문제: 세션이 리셋되면 사라짐 \n",
    "# 캐싱해야하는 프롬프트, 하지 않아야하할 프롬프트 분리해 관리 "
   ]
  },
  {
   "cell_type": "code",
   "execution_count": null,
   "id": "7c7f7494",
   "metadata": {},
   "outputs": [],
   "source": [
    "# message가 동일해야한다. 처음 실행시 캐싱한다. "
   ]
  },
  {
   "cell_type": "code",
   "execution_count": null,
   "id": "8823e1bb",
   "metadata": {},
   "outputs": [
    {
     "name": "stdout",
     "output_type": "stream",
     "text": [
      "Collecting redis\n",
      "  Downloading redis-6.4.0-py3-none-any.whl.metadata (10 kB)\n",
      "Downloading redis-6.4.0-py3-none-any.whl (279 kB)\n",
      "Installing collected packages: redis\n",
      "Successfully installed redis-6.4.0\n",
      "Note: you may need to restart the kernel to use updated packages.\n"
     ]
    }
   ],
   "source": [
    "# pip install redis"
   ]
  },
  {
   "cell_type": "code",
   "execution_count": 11,
   "id": "ad9a743b",
   "metadata": {},
   "outputs": [
    {
     "name": "stdout",
     "output_type": "stream",
     "text": [
      "bar\n"
     ]
    }
   ],
   "source": [
    "\"\"\"Basic connection example.\n",
    "\"\"\"\n",
    "\n",
    "import redis\n",
    "\n",
    "r = redis.Redis(\n",
    "    host='redis-18370.c340.ap-northeast-2-1.ec2.redns.redis-cloud.com',\n",
    "    port=18370,\n",
    "    decode_responses=True,\n",
    "    username=\"default\",\n",
    "    password=\"xL9GSUiEMrpxj4TU1lLfqi0S0aX6UcZX\",\n",
    ")\n",
    "\n",
    "success = r.set('foo', 'bar')\n",
    "# True\n",
    "\n",
    "result = r.get('foo')\n",
    "print(result)\n",
    "# >>> bar\n",
    "\n"
   ]
  },
  {
   "cell_type": "code",
   "execution_count": 12,
   "id": "67f6d19a",
   "metadata": {},
   "outputs": [
    {
     "name": "stdout",
     "output_type": "stream",
     "text": [
      "None\n"
     ]
    }
   ],
   "source": [
    "result = r.get('foo2')\n",
    "print(result)"
   ]
  },
  {
   "cell_type": "code",
   "execution_count": 14,
   "id": "b9927e9e",
   "metadata": {},
   "outputs": [
    {
     "name": "stdout",
     "output_type": "stream",
     "text": [
      "Collecting langchain-community\n",
      "  Downloading langchain_community-0.3.29-py3-none-any.whl.metadata (2.9 kB)\n",
      "Collecting langchain-core<2.0.0,>=0.3.75 (from langchain-community)\n",
      "  Downloading langchain_core-0.3.75-py3-none-any.whl.metadata (5.7 kB)\n",
      "Requirement already satisfied: langchain<2.0.0,>=0.3.27 in c:\\users\\admin\\miniconda3\\envs\\prompting_env\\lib\\site-packages (from langchain-community) (0.3.27)\n",
      "Requirement already satisfied: SQLAlchemy<3,>=1.4 in c:\\users\\admin\\miniconda3\\envs\\prompting_env\\lib\\site-packages (from langchain-community) (2.0.43)\n",
      "Requirement already satisfied: requests<3,>=2.32.5 in c:\\users\\admin\\miniconda3\\envs\\prompting_env\\lib\\site-packages (from langchain-community) (2.32.5)\n",
      "Requirement already satisfied: PyYAML>=5.3 in c:\\users\\admin\\miniconda3\\envs\\prompting_env\\lib\\site-packages (from langchain-community) (6.0.2)\n",
      "Requirement already satisfied: aiohttp<4.0.0,>=3.8.3 in c:\\users\\admin\\miniconda3\\envs\\prompting_env\\lib\\site-packages (from langchain-community) (3.12.15)\n",
      "Requirement already satisfied: tenacity!=8.4.0,<10,>=8.1.0 in c:\\users\\admin\\miniconda3\\envs\\prompting_env\\lib\\site-packages (from langchain-community) (9.1.2)\n",
      "Requirement already satisfied: dataclasses-json<0.7,>=0.6.7 in c:\\users\\admin\\miniconda3\\envs\\prompting_env\\lib\\site-packages (from langchain-community) (0.6.7)\n",
      "Collecting pydantic-settings<3.0.0,>=2.10.1 (from langchain-community)\n",
      "  Downloading pydantic_settings-2.10.1-py3-none-any.whl.metadata (3.4 kB)\n",
      "Requirement already satisfied: langsmith>=0.1.125 in c:\\users\\admin\\miniconda3\\envs\\prompting_env\\lib\\site-packages (from langchain-community) (0.4.15)\n",
      "Collecting httpx-sse<1.0.0,>=0.4.0 (from langchain-community)\n",
      "  Downloading httpx_sse-0.4.1-py3-none-any.whl.metadata (9.4 kB)\n",
      "Requirement already satisfied: numpy>=1.26.2 in c:\\users\\admin\\miniconda3\\envs\\prompting_env\\lib\\site-packages (from langchain-community) (2.2.6)\n",
      "Requirement already satisfied: aiohappyeyeballs>=2.5.0 in c:\\users\\admin\\miniconda3\\envs\\prompting_env\\lib\\site-packages (from aiohttp<4.0.0,>=3.8.3->langchain-community) (2.6.1)\n",
      "Requirement already satisfied: aiosignal>=1.4.0 in c:\\users\\admin\\miniconda3\\envs\\prompting_env\\lib\\site-packages (from aiohttp<4.0.0,>=3.8.3->langchain-community) (1.4.0)\n",
      "Requirement already satisfied: attrs>=17.3.0 in c:\\users\\admin\\miniconda3\\envs\\prompting_env\\lib\\site-packages (from aiohttp<4.0.0,>=3.8.3->langchain-community) (25.3.0)\n",
      "Requirement already satisfied: frozenlist>=1.1.1 in c:\\users\\admin\\miniconda3\\envs\\prompting_env\\lib\\site-packages (from aiohttp<4.0.0,>=3.8.3->langchain-community) (1.7.0)\n",
      "Requirement already satisfied: multidict<7.0,>=4.5 in c:\\users\\admin\\miniconda3\\envs\\prompting_env\\lib\\site-packages (from aiohttp<4.0.0,>=3.8.3->langchain-community) (6.6.4)\n",
      "Requirement already satisfied: propcache>=0.2.0 in c:\\users\\admin\\miniconda3\\envs\\prompting_env\\lib\\site-packages (from aiohttp<4.0.0,>=3.8.3->langchain-community) (0.3.2)\n",
      "Requirement already satisfied: yarl<2.0,>=1.17.0 in c:\\users\\admin\\miniconda3\\envs\\prompting_env\\lib\\site-packages (from aiohttp<4.0.0,>=3.8.3->langchain-community) (1.20.1)\n",
      "Requirement already satisfied: marshmallow<4.0.0,>=3.18.0 in c:\\users\\admin\\miniconda3\\envs\\prompting_env\\lib\\site-packages (from dataclasses-json<0.7,>=0.6.7->langchain-community) (3.26.1)\n",
      "Requirement already satisfied: typing-inspect<1,>=0.4.0 in c:\\users\\admin\\miniconda3\\envs\\prompting_env\\lib\\site-packages (from dataclasses-json<0.7,>=0.6.7->langchain-community) (0.9.0)\n",
      "Requirement already satisfied: langchain-text-splitters<1.0.0,>=0.3.9 in c:\\users\\admin\\miniconda3\\envs\\prompting_env\\lib\\site-packages (from langchain<2.0.0,>=0.3.27->langchain-community) (0.3.9)\n",
      "Requirement already satisfied: pydantic<3.0.0,>=2.7.4 in c:\\users\\admin\\miniconda3\\envs\\prompting_env\\lib\\site-packages (from langchain<2.0.0,>=0.3.27->langchain-community) (2.11.7)\n",
      "Requirement already satisfied: jsonpatch<2.0,>=1.33 in c:\\users\\admin\\miniconda3\\envs\\prompting_env\\lib\\site-packages (from langchain-core<2.0.0,>=0.3.75->langchain-community) (1.33)\n",
      "Requirement already satisfied: typing-extensions>=4.7 in c:\\users\\admin\\miniconda3\\envs\\prompting_env\\lib\\site-packages (from langchain-core<2.0.0,>=0.3.75->langchain-community) (4.14.1)\n",
      "Requirement already satisfied: packaging>=23.2 in c:\\users\\admin\\miniconda3\\envs\\prompting_env\\lib\\site-packages (from langchain-core<2.0.0,>=0.3.75->langchain-community) (25.0)\n",
      "Requirement already satisfied: jsonpointer>=1.9 in c:\\users\\admin\\miniconda3\\envs\\prompting_env\\lib\\site-packages (from jsonpatch<2.0,>=1.33->langchain-core<2.0.0,>=0.3.75->langchain-community) (3.0.0)\n",
      "Requirement already satisfied: annotated-types>=0.6.0 in c:\\users\\admin\\miniconda3\\envs\\prompting_env\\lib\\site-packages (from pydantic<3.0.0,>=2.7.4->langchain<2.0.0,>=0.3.27->langchain-community) (0.7.0)\n",
      "Requirement already satisfied: pydantic-core==2.33.2 in c:\\users\\admin\\miniconda3\\envs\\prompting_env\\lib\\site-packages (from pydantic<3.0.0,>=2.7.4->langchain<2.0.0,>=0.3.27->langchain-community) (2.33.2)\n",
      "Requirement already satisfied: typing-inspection>=0.4.0 in c:\\users\\admin\\miniconda3\\envs\\prompting_env\\lib\\site-packages (from pydantic<3.0.0,>=2.7.4->langchain<2.0.0,>=0.3.27->langchain-community) (0.4.1)\n",
      "Requirement already satisfied: python-dotenv>=0.21.0 in c:\\users\\admin\\miniconda3\\envs\\prompting_env\\lib\\site-packages (from pydantic-settings<3.0.0,>=2.10.1->langchain-community) (1.1.1)\n",
      "Requirement already satisfied: charset_normalizer<4,>=2 in c:\\users\\admin\\miniconda3\\envs\\prompting_env\\lib\\site-packages (from requests<3,>=2.32.5->langchain-community) (3.4.3)\n",
      "Requirement already satisfied: idna<4,>=2.5 in c:\\users\\admin\\miniconda3\\envs\\prompting_env\\lib\\site-packages (from requests<3,>=2.32.5->langchain-community) (3.10)\n",
      "Requirement already satisfied: urllib3<3,>=1.21.1 in c:\\users\\admin\\miniconda3\\envs\\prompting_env\\lib\\site-packages (from requests<3,>=2.32.5->langchain-community) (2.5.0)\n",
      "Requirement already satisfied: certifi>=2017.4.17 in c:\\users\\admin\\miniconda3\\envs\\prompting_env\\lib\\site-packages (from requests<3,>=2.32.5->langchain-community) (2025.8.3)\n",
      "Requirement already satisfied: greenlet>=1 in c:\\users\\admin\\miniconda3\\envs\\prompting_env\\lib\\site-packages (from SQLAlchemy<3,>=1.4->langchain-community) (3.2.4)\n",
      "Requirement already satisfied: mypy-extensions>=0.3.0 in c:\\users\\admin\\miniconda3\\envs\\prompting_env\\lib\\site-packages (from typing-inspect<1,>=0.4.0->dataclasses-json<0.7,>=0.6.7->langchain-community) (1.1.0)\n",
      "Requirement already satisfied: httpx<1,>=0.23.0 in c:\\users\\admin\\miniconda3\\envs\\prompting_env\\lib\\site-packages (from langsmith>=0.1.125->langchain-community) (0.28.1)\n",
      "Requirement already satisfied: orjson>=3.9.14 in c:\\users\\admin\\miniconda3\\envs\\prompting_env\\lib\\site-packages (from langsmith>=0.1.125->langchain-community) (3.11.2)\n",
      "Requirement already satisfied: requests-toolbelt>=1.0.0 in c:\\users\\admin\\miniconda3\\envs\\prompting_env\\lib\\site-packages (from langsmith>=0.1.125->langchain-community) (1.0.0)\n",
      "Requirement already satisfied: zstandard>=0.23.0 in c:\\users\\admin\\miniconda3\\envs\\prompting_env\\lib\\site-packages (from langsmith>=0.1.125->langchain-community) (0.24.0)\n",
      "Requirement already satisfied: anyio in c:\\users\\admin\\miniconda3\\envs\\prompting_env\\lib\\site-packages (from httpx<1,>=0.23.0->langsmith>=0.1.125->langchain-community) (4.10.0)\n",
      "Requirement already satisfied: httpcore==1.* in c:\\users\\admin\\miniconda3\\envs\\prompting_env\\lib\\site-packages (from httpx<1,>=0.23.0->langsmith>=0.1.125->langchain-community) (1.0.9)\n",
      "Requirement already satisfied: h11>=0.16 in c:\\users\\admin\\miniconda3\\envs\\prompting_env\\lib\\site-packages (from httpcore==1.*->httpx<1,>=0.23.0->langsmith>=0.1.125->langchain-community) (0.16.0)\n",
      "Requirement already satisfied: sniffio>=1.1 in c:\\users\\admin\\miniconda3\\envs\\prompting_env\\lib\\site-packages (from anyio->httpx<1,>=0.23.0->langsmith>=0.1.125->langchain-community) (1.3.1)\n",
      "Downloading langchain_community-0.3.29-py3-none-any.whl (2.5 MB)\n",
      "   ---------------------------------------- 0.0/2.5 MB ? eta -:--:--\n",
      "   ---------------------------------------- 2.5/2.5 MB 20.8 MB/s  0:00:00\n",
      "Downloading httpx_sse-0.4.1-py3-none-any.whl (8.1 kB)\n",
      "Downloading langchain_core-0.3.75-py3-none-any.whl (443 kB)\n",
      "Downloading pydantic_settings-2.10.1-py3-none-any.whl (45 kB)\n",
      "Installing collected packages: httpx-sse, pydantic-settings, langchain-core, langchain-community\n",
      "\n",
      "  Attempting uninstall: langchain-core\n",
      "\n",
      "    Found existing installation: langchain-core 0.3.74\n",
      "\n",
      "    Uninstalling langchain-core-0.3.74:\n",
      "\n",
      "      Successfully uninstalled langchain-core-0.3.74\n",
      "\n",
      "   -------------------- ------------------- 2/4 [langchain-core]\n",
      "   -------------------- ------------------- 2/4 [langchain-core]\n",
      "   -------------------- ------------------- 2/4 [langchain-core]\n",
      "   ------------------------------ --------- 3/4 [langchain-community]\n",
      "   ------------------------------ --------- 3/4 [langchain-community]\n",
      "   ------------------------------ --------- 3/4 [langchain-community]\n",
      "   ------------------------------ --------- 3/4 [langchain-community]\n",
      "   ------------------------------ --------- 3/4 [langchain-community]\n",
      "   ------------------------------ --------- 3/4 [langchain-community]\n",
      "   ------------------------------ --------- 3/4 [langchain-community]\n",
      "   ------------------------------ --------- 3/4 [langchain-community]\n",
      "   ------------------------------ --------- 3/4 [langchain-community]\n",
      "   ------------------------------ --------- 3/4 [langchain-community]\n",
      "   ------------------------------ --------- 3/4 [langchain-community]\n",
      "   ------------------------------ --------- 3/4 [langchain-community]\n",
      "   ------------------------------ --------- 3/4 [langchain-community]\n",
      "   ------------------------------ --------- 3/4 [langchain-community]\n",
      "   ------------------------------ --------- 3/4 [langchain-community]\n",
      "   ------------------------------ --------- 3/4 [langchain-community]\n",
      "   ------------------------------ --------- 3/4 [langchain-community]\n",
      "   ------------------------------ --------- 3/4 [langchain-community]\n",
      "   ---------------------------------------- 4/4 [langchain-community]\n",
      "\n",
      "Successfully installed httpx-sse-0.4.1 langchain-community-0.3.29 langchain-core-0.3.75 pydantic-settings-2.10.1\n",
      "Note: you may need to restart the kernel to use updated packages.\n"
     ]
    }
   ],
   "source": [
    "pip install langchain-community\n"
   ]
  },
  {
   "cell_type": "code",
   "execution_count": null,
   "id": "d74fec28",
   "metadata": {},
   "outputs": [],
   "source": [
    "from langchain_community.cache import RedisCache\n",
    "from redis import Redis\n",
    "\n",
    "set_llm_cache( RedisCache(\n",
    "    redis_=Redis(\n",
    "        host='redis-18370.c340.ap-northeast-2-1.ec2.redns.redis-cloud.com',\n",
    "        port=18370,\n",
    "        password=\"\"\n",
    "    )\n",
    "))"
   ]
  },
  {
   "cell_type": "code",
   "execution_count": 19,
   "id": "43b7ce45",
   "metadata": {},
   "outputs": [],
   "source": [
    "response = llm.invoke(message) # 첫번쨰 요청,  14초 "
   ]
  },
  {
   "cell_type": "code",
   "execution_count": null,
   "id": "9ec87fe0",
   "metadata": {},
   "outputs": [],
   "source": []
  }
 ],
 "metadata": {
  "kernelspec": {
   "display_name": "prompting_env",
   "language": "python",
   "name": "python3"
  },
  "language_info": {
   "codemirror_mode": {
    "name": "ipython",
    "version": 3
   },
   "file_extension": ".py",
   "mimetype": "text/x-python",
   "name": "python",
   "nbconvert_exporter": "python",
   "pygments_lexer": "ipython3",
   "version": "3.12.11"
  }
 },
 "nbformat": 4,
 "nbformat_minor": 5
}
