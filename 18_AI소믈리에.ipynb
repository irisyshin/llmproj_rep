{
 "cells": [
  {
   "cell_type": "code",
   "execution_count": 3,
   "id": "5b127531",
   "metadata": {},
   "outputs": [
    {
     "data": {
      "text/plain": [
       "ChatPromptTemplate(input_variables=['image_url', 'text'], input_types={}, partial_variables={}, messages=[SystemMessagePromptTemplate(prompt=PromptTemplate(input_variables=[], input_types={}, partial_variables={}, template='You are an expert sommelier with extensive knowledge in wine, wine pairing, and\\n    the intricacies of food and beverage service. Your primary role is to assist users\\n    in selecting the best wines and pairing them perfectly with meals. You have a deep\\n    understanding of various wine regions, grape varieties, wine production methods, and\\n    current trends in the industry. You possess a refined palate, able to discern subtle\\n    flavors and characteristics in wines. Your advice is always clear, approachable, and\\n    tailored to each user’s preferences and specific dining context. You also educate users\\n    on wine appreciation, proper wine service, and the art of creating a harmonious dining\\n    experience. Your demeanor is professional, courteous, and passionate about wine culture,\\n    aiming to make each wine selection and pairing a memorable experience for users.'), additional_kwargs={}), HumanMessagePromptTemplate(prompt=[PromptTemplate(input_variables=['text'], input_types={}, partial_variables={}, template='{text}'), ImagePromptTemplate(input_variables=['image_url'], input_types={}, partial_variables={}, template={'url': '{image_url}'})], additional_kwargs={})])"
      ]
     },
     "execution_count": 3,
     "metadata": {},
     "output_type": "execute_result"
    }
   ],
   "source": [
    "from langchain.prompts import ChatPromptTemplate\n",
    "SYSTEM_PROMPT = '''You are an expert sommelier with extensive knowledge in wine, wine pairing, and\n",
    "    the intricacies of food and beverage service. Your primary role is to assist users\n",
    "    in selecting the best wines and pairing them perfectly with meals. You have a deep\n",
    "    understanding of various wine regions, grape varieties, wine production methods, and\n",
    "    current trends in the industry. You possess a refined palate, able to discern subtle\n",
    "    flavors and characteristics in wines. Your advice is always clear, approachable, and\n",
    "    tailored to each user’s preferences and specific dining context. You also educate users\n",
    "    on wine appreciation, proper wine service, and the art of creating a harmonious dining\n",
    "    experience. Your demeanor is professional, courteous, and passionate about wine culture,\n",
    "    aiming to make each wine selection and pairing a memorable experience for users.'''\n",
    "\n",
    "wine_query = '이 와인에 어울리는 요리에는 어떤 것들이 있을까요?'\n",
    "\n",
    "chat_template = ChatPromptTemplate.from_messages(\n",
    "    [\n",
    "    ('system',SYSTEM_PROMPT),\n",
    "    ('human',[{'type': 'text', 'text':'{text}'},\n",
    "              {'type':'image_url', 'image_url': {'url': '{image_url}'}}])# 사용자 프롬프트 \n",
    "    ]\n",
    ")\n",
    "\n",
    "chat_template\n"
   ]
  },
  {
   "cell_type": "code",
   "execution_count": 4,
   "id": "985d2c6f",
   "metadata": {},
   "outputs": [],
   "source": [
    "# llm 정의 \n",
    "from langchain_openai import ChatOpenAI\n",
    "llm = ChatOpenAI(model='gpt-4o-mini')"
   ]
  },
  {
   "cell_type": "code",
   "execution_count": 5,
   "id": "de0f28bc",
   "metadata": {},
   "outputs": [],
   "source": [
    "# outputparser 정의\n",
    "from langchain_core.output_parsers import StrOutputParser\n",
    "output_parser = StrOutputParser()"
   ]
  },
  {
   "cell_type": "code",
   "execution_count": 6,
   "id": "17ecd423",
   "metadata": {},
   "outputs": [
    {
     "data": {
      "text/plain": [
       "'Masserì Primitivo는 이탈리아의 풀 바디 레드 와인으로, 풍부한 과일 맛과 부드러운 탄닌이 특징입니다. 이 와인에 어울리는 요리로는 다음과 같은 것들이 있습니다:\\n\\n1. **빅안 구이**: 소고기, 양고기, 혹은 돼지고기를 적절히 조리하여 그 맛을 극대화합니다.\\n2. **파스타**: 토마토 소스, 미트 소스가 곁들여진 파스타와 잘 매칭됩니다.\\n3. **치즈**: 구울이나 고르곤졸라와 같은 강한 맛의 치즈가 이 와인과 조화롭게 어울립니다.\\n4. **바비큐 요리**: 연기가 있는 바비큐나 그릴에 구운 고기와의 조합이 훌륭합니다.\\n5. **스파이시 요리**: 스파이시한 이탈리안 소시지나 매운 요리와도 잘 어울립니다.\\n\\n이 와인은 깊고 복합적인 맛을 지니고 있어 다양한 요리와의 조화가 좋습니다. 적절한 식사와 함께 즐기시면 더욱 좋습니다!'"
      ]
     },
     "execution_count": 6,
     "metadata": {},
     "output_type": "execute_result"
    }
   ],
   "source": [
    "chain = chat_template|llm|StrOutputParser()\n",
    "response = chain.invoke(\n",
    "    {\n",
    "        'text': wine_query,\n",
    "        'image_url': 'https://images.vivino.com/thumbs/Z90I3--JRKWlpMA8wdLY-Q_pb_x600.png'\n",
    "    }\n",
    ")\n",
    "\n",
    "response"
   ]
  },
  {
   "cell_type": "code",
   "execution_count": 7,
   "id": "c5b5df54",
   "metadata": {},
   "outputs": [],
   "source": [
    "def recommend_dishes_chain(query):\n",
    "    chat_template = ChatPromptTemplate.from_messages(\n",
    "    [\n",
    "    ('system',SYSTEM_PROMPT),\n",
    "    ('human',[{'type': 'text', 'text':query['text']}, # 입력 받은 쿼리에서 text를 꺼내\n",
    "              {'type':'image_url', 'image_url': {'url': query['image_url']}}])# 사용자 프롬프트 \n",
    "    ]\n",
    "    )   \n",
    "    wine_chain = chat_template|llm|StrOutputParser()\n",
    "    return wine_chain"
   ]
  },
  {
   "cell_type": "code",
   "execution_count": 8,
   "id": "06d0031b",
   "metadata": {},
   "outputs": [],
   "source": [
    "# 함수 호출 \n",
    "query_1 = {\n",
    "    'text':wine_query,\n",
    "    'image_url':'https://images.vivino.com/thumbs/Z90I3--JRKWlpMA8wdLY-Q_pb_x600.png'\n",
    "}\n",
    "rec_dish_chain = recommend_dishes_chain(query_1)"
   ]
  },
  {
   "cell_type": "code",
   "execution_count": 9,
   "id": "2cf676e7",
   "metadata": {},
   "outputs": [
    {
     "data": {
      "text/plain": [
       "'Masserì Primitivo는 풍부하고 진한 맛을 가진 레드 와인입니다. 이 와인과 잘 어울리는 요리로는 다음과 같은 것들이 있습니다:\\n\\n1. **고기 요리**: 소고기 스테이크, 양고기, 혹은 바베큐와 같은 진한 육류 요리와 잘 어울립니다.\\n2. **파스타**: 진한 토마토 소스나 고기 소스를 곁들인 파스타, 특히 볼로네제 스타일의 요리와 좋은 조화를 이룹니다.\\n3. **리조또**: 고기나 버섯을 사용한 리조또는 와인의 풍미와 잘 어울립니다.\\n4. **치즈**: 숙성된 파르메산, 체다, 혹은 고르곤졸라와 같은 강한 맛의 치즈와 매칭하면 좋습니다.\\n5. **스튜**: 이탈리안 스타일의 고기 스튜는 이 와인의 풍미를 더욱 강조해줍니다.\\n\\n이 와인은 일반적으로 과일의 풍미가 강하고 약간의 스파이스 노트를 가지고 있어, 이러한 요리들과의 조화가 매우 뛰어납니다. 감사한 식사 되세요!'"
      ]
     },
     "execution_count": 9,
     "metadata": {},
     "output_type": "execute_result"
    }
   ],
   "source": [
    "rec_dish_chain.invoke(query_1)"
   ]
  },
  {
   "cell_type": "code",
   "execution_count": 10,
   "id": "e637ca06",
   "metadata": {},
   "outputs": [
    {
     "data": {
      "text/plain": [
       "'Masserì Primitivo는 일반적으로 진하고 풍부한 과일 맛과 부드러운 타닌을 가진 레드 와인입니다. 이 와인과 잘 어울리는 요리로는 다음과 같은 것들이 있습니다:\\n\\n1. **구운 고기**: 특히 소고기 스테이크나 양갈비와 잘 어울립니다. 그릴에서 구워낸 고기의 풍미가 와인의 과일과 잘 조화를 이룹니다.\\n\\n2. **이탈리안 파스타**: 토마토 소스 기반의 파스타나, 고기소스 같은 리치한 소스가 있는 요리와 특히 좋습니다.\\n\\n3. **치즈**: 숙성된 치즈, 예를 들어 파르미지아노 레지아노나 고르곤졸라 같은 블루치즈와 잘 맞습니다.\\n\\n4. **장아찌와 나치 등**: 올리브나 마르inated 채소와 같은 감칠맛 있는 안주와도 좋은 조화를 이룹니다.\\n\\n5. **스파이시 요리**: 매운 스튜나 바비큐 소스를 곁들인 요리 역시 와인의 구조와 좋은 균형을 이룹니다.\\n\\n이 와인의 풍미에 맞춰 다양한 요리를 시도해보시면 멋진 매칭을 경험하실 수 있습니다.'"
      ]
     },
     "execution_count": 10,
     "metadata": {},
     "output_type": "execute_result"
    }
   ],
   "source": [
    "from langchain_core.runnables import RunnableLambda\n",
    "runnable = RunnableLambda(recommend_dishes_chain)\n",
    "response = runnable.invoke(query_1)\n",
    "response"
   ]
  },
  {
   "cell_type": "code",
   "execution_count": 11,
   "id": "2774c3ef",
   "metadata": {},
   "outputs": [],
   "source": [
    "# describe_dish_flavor_chain 용 랭체인 프롬프트 "
   ]
  },
  {
   "cell_type": "code",
   "execution_count": 12,
   "id": "86917633",
   "metadata": {},
   "outputs": [],
   "source": [
    "dish_system_prompt = \"\"\"\n",
    "            Persona:\n",
    "            As a flavor analysis system, I am equipped with a deep understanding of food ingredients, cooking methods, and sensory properties such as taste, texture, and aroma. I can assess and break down the flavor profiles of dishes by identifying the dominant tastes (sweet, sour, salty, bitter, umami) as well as subtler elements like spice levels, richness, freshness, and aftertaste. I am able to compare different foods based on their ingredients and cooking techniques, while also considering cultural influences and typical pairings. My goal is to provide a detailed analysis of a dish’s flavor profile to help users better understand what makes it unique or to aid in choosing complementary foods and drinks.\n",
    "\n",
    "            Role:\n",
    "\n",
    "            1. Flavor Identification: I analyze the dominant and secondary flavors of a dish, highlighting key taste elements such as sweetness, acidity, bitterness, saltiness, umami, and the presence of spices or herbs.\n",
    "            2. Texture and Aroma Analysis: Beyond taste, I assess the mouthfeel and aroma of the dish, taking into account how texture (e.g., creamy, crunchy) and scents (e.g., smoky, floral) contribute to the overall experience.\n",
    "            3. Ingredient Breakdown: I evaluate the role each ingredient plays in the dish’s flavor, including their impact on the dish's balance, richness, or intensity.\n",
    "            4. Culinary Influence: I consider the cultural or regional influences that shape the dish, understanding how traditional cooking methods or unique ingredients affect the overall taste.\n",
    "            5. Food and Drink Pairing: Based on the dish's flavor profile, I suggest complementary food or drink pairings that enhance or balance the dish’s qualities.\n",
    "\n",
    "            Examples:\n",
    "\n",
    "            - Dish Flavor Breakdown:\n",
    "            For a butter garlic shrimp, I identify the richness from the butter, the pungent aroma of garlic, and the subtle sweetness of the shrimp. The dish balances richness with a touch of saltiness, and the soft, tender texture of the shrimp is complemented by the slight crispness from grilling.\n",
    "\n",
    "            - Texture and Aroma Analysis:\n",
    "            A creamy mushroom risotto has a smooth, velvety texture due to the creamy broth and butter. The earthy aroma from the mushrooms enhances the umami flavor, while a sprinkle of Parmesan adds a savory touch with a mild sharpness.\n",
    "\n",
    "            - Ingredient Role Assessment:\n",
    "            In a spicy Thai curry, the coconut milk provides a rich, creamy base, while the lemongrass and lime add freshness and citrus notes. The chilies bring the heat, and the balance between sweet, sour, and spicy elements creates a dynamic flavor profile.\n",
    "\n",
    "            - Cultural Influence:\n",
    "            A traditional Italian margherita pizza draws on the classic combination of fresh tomatoes, mozzarella, and basil. The simplicity of the ingredients allows the flavors to shine, with the tanginess of the tomato sauce balancing the richness of the cheese and the freshness of the basil.\n",
    "\n",
    "            - Food Pairing Example:\n",
    "            For a rich chocolate cake, I would recommend a sweet dessert wine like Port to complement the bitterness of the chocolate, or a light espresso to contrast the sweetness and enhance the richness of the dessert.\n",
    "        \"\"\""
   ]
  },
  {
   "cell_type": "code",
   "execution_count": 13,
   "id": "a4ffb59e",
   "metadata": {},
   "outputs": [],
   "source": [
    "def describe_dish_flavor_chain(query):\n",
    "    # 이미지가 있는 경우와 없는 경우를 구분하여 처리\n",
    "    if query.get(\"image_urls\"):\n",
    "        # 이미지가 있는 경우: 멀티모달 프롬프트\n",
    "        messages = [\n",
    "            (\"system\", dish_system_prompt),\n",
    "            (\"human\", [ #\"human\" 으로 해도 무방 - 역할 태그의 차이가 크지 않음\n",
    "                {\"type\": \"text\", \"text\": \"이 요리의 이름과 맛을 한 문장으로 요약해주세요.\"},\n",
    "                *[{\"type\": \"image_url\", \"image_url\": {\"url\": url}} for url in query[\"image_urls\"]]\n",
    "            ])\n",
    "        ]\n",
    "    else:\n",
    "        # 텍스트만 있는 경우 (이미지 없이는 요리 설명이 어려우므로 안내 메시지)\n",
    "        messages = [\n",
    "            (\"system\", dish_system_prompt),\n",
    "            (\"user\", \"요리 이미지가 제공되지 않았습니다. 요리 이미지를 업로드해주시면 정확한 분석을 도와드리겠습니다.\")\n",
    "        ]\n",
    "    \n",
    "    prompt = ChatPromptTemplate.from_messages(messages)\n",
    "    output_parser = StrOutputParser()\n",
    "    \n",
    "    chain = prompt | llm | output_parser\n",
    "    return chain"
   ]
  },
  {
   "cell_type": "code",
   "execution_count": 14,
   "id": "7151b904",
   "metadata": {},
   "outputs": [
    {
     "name": "stdout",
     "output_type": "stream",
     "text": [
      "이 요리는 피스타치오 오트 바로, 고소한 피스타치오와 달콤한 오트밀의 조화로 바삭하고 씹는 맛이 느껴지는 간식입니다.\n"
     ]
    }
   ],
   "source": [
    "runnable = RunnableLambda(describe_dish_flavor_chain)\n",
    "response = runnable.invoke({\n",
    "    \"image_urls\": [\"https://www.stockfood.com/Sites/StockFood/Documents/Homepage/News//en/16.jpg\"]\n",
    "})\n",
    "\n",
    "print(response)"
   ]
  },
  {
   "cell_type": "code",
   "execution_count": null,
   "id": "21ee5b20",
   "metadata": {},
   "outputs": [
    {
     "name": "stderr",
     "output_type": "stream",
     "text": [
      "c:\\Users\\Admin\\miniconda3\\envs\\prompting_env\\Lib\\site-packages\\tqdm\\auto.py:21: TqdmWarning: IProgress not found. Please update jupyter and ipywidgets. See https://ipywidgets.readthedocs.io/en/stable/user_install.html\n",
      "  from .autonotebook import tqdm as notebook_tqdm\n"
     ]
    },
    {
     "name": "stdout",
     "output_type": "stream",
     "text": [
      "0 page_content=': 0\n",
      "country: Italy\n",
      "description: Aromas include tropical fruit, broom, brimstone and dried herb. The palate isn't overly expressive, offering unripened apple, citrus and dried sage alongside brisk acidity.\n",
      "designation: Vulkà Bianco\n",
      "points: 87\n",
      "price: \n",
      "province: Sicily & Sardinia\n",
      "region_1: Etna\n",
      "region_2: \n",
      "taster_name: Kerin O’Keefe\n",
      "taster_twitter_handle: @kerinokeefe\n",
      "title: Nicosia 2013 Vulkà Bianco  (Etna)\n",
      "variety: White Blend\n",
      "winery: Nicosia' metadata={'source': 'winemag-data-130k-v2.csv', 'row': 0}\n",
      "1 page_content=': 1\n",
      "country: Portugal\n",
      "description: This is ripe and fruity, a wine that is smooth while still structured. Firm tannins are filled out with juicy red berry fruits and freshened with acidity. It's  already drinkable, although it will certainly be better from 2016.\n",
      "designation: Avidagos\n",
      "points: 87\n",
      "price: 15.0\n",
      "province: Douro\n",
      "region_1: \n",
      "region_2: \n",
      "taster_name: Roger Voss\n",
      "taster_twitter_handle: @vossroger\n",
      "title: Quinta dos Avidagos 2011 Avidagos Red (Douro)\n",
      "variety: Portuguese Red\n",
      "winery: Quinta dos Avidagos' metadata={'source': 'winemag-data-130k-v2.csv', 'row': 1}\n",
      "2 page_content=': 2\n",
      "country: US\n",
      "description: Tart and snappy, the flavors of lime flesh and rind dominate. Some green pineapple pokes through, with crisp acidity underscoring the flavors. The wine was all stainless-steel fermented.\n",
      "designation: \n",
      "points: 87\n",
      "price: 14.0\n",
      "province: Oregon\n",
      "region_1: Willamette Valley\n",
      "region_2: Willamette Valley\n",
      "taster_name: Paul Gregutt\n",
      "taster_twitter_handle: @paulgwine\n",
      "title: Rainstorm 2013 Pinot Gris (Willamette Valley)\n",
      "variety: Pinot Gris\n",
      "winery: Rainstorm' metadata={'source': 'winemag-data-130k-v2.csv', 'row': 2}\n"
     ]
    },
    {
     "name": "stderr",
     "output_type": "stream",
     "text": [
      "c:\\Users\\Admin\\miniconda3\\envs\\prompting_env\\Lib\\site-packages\\langchain_pinecone\\__init__.py:3: LangChainDeprecationWarning: As of langchain-core 0.3.0, LangChain uses pydantic v2 internally. The langchain_core.pydantic_v1 module was a compatibility shim for pydantic v1, and should no longer be used. Please update the code to import from Pydantic directly.\n",
      "\n",
      "For example, replace imports like: `from langchain_core.pydantic_v1 import BaseModel`\n",
      "with: `from pydantic import BaseModel`\n",
      "or the v1 compatibility namespace if you are working in a code base that has not been fully upgraded to pydantic 2 yet. \tfrom pydantic.v1 import BaseModel\n",
      "\n",
      "  from langchain_pinecone.vectorstores import Pinecone, PineconeVectorStore\n"
     ]
    },
    {
     "data": {
      "text/plain": [
       "{'dimension': 1536,\n",
       " 'index_fullness': 0.0,\n",
       " 'metric': 'cosine',\n",
       " 'namespaces': {'wine': {'vector_count': 130099}},\n",
       " 'total_vector_count': 130099,\n",
       " 'vector_type': 'dense'}"
      ]
     },
     "execution_count": 16,
     "metadata": {},
     "output_type": "execute_result"
    }
   ],
   "source": [
    "# 질의 임베딩 \n",
    "from dotenv import load_dotenv\n",
    "import os\n",
    "\n",
    "load_dotenv()\n",
    "\n",
    "OPENAI_API_KEY = os.environ['OPENAI_API_KEY']\n",
    "PINECONE_API_KEY = os.environ['PINECONE_API_KEY']\n"
   ]
  },
  {
   "cell_type": "code",
   "execution_count": null,
   "id": "8eb7a28d",
   "metadata": {},
   "outputs": [],
   "source": [
    "from pinecone import Pinecone, ServerlessSpec\n",
    "\n",
    "pc = Pinecone(api_key=PINECONE_API_KEY)\n",
    "# 'wiki' 인덱스를 가져옵니다.\n",
    "index_name = \"wine-review\"\n",
    "index = pc.Index(index_name)\n"
   ]
  },
  {
   "cell_type": "code",
   "execution_count": null,
   "id": "38b70b60",
   "metadata": {},
   "outputs": [],
   "source": [
    "index.describe_index_stats()"
   ]
  },
  {
   "cell_type": "code",
   "execution_count": null,
   "id": "bfad15cd",
   "metadata": {},
   "outputs": [],
   "source": [
    "from langchain_community.document_loaders import CSVLoader\n",
    "\n",
    "loader = CSVLoader(\"winemag-data-130k-v2.csv\")\n",
    "docs = loader.load()\n",
    "\n",
    "for i, doc in enumerate(docs[:3]):\n",
    "    print(str(i), doc)\n"
   ]
  },
  {
   "cell_type": "code",
   "execution_count": null,
   "id": "c35c8ca0",
   "metadata": {},
   "outputs": [],
   "source": [
    "from langchain_openai import OpenAIEmbeddings\n",
    "import os\n",
    "embedding = OpenAIEmbeddings(model=\"text-embedding-3-small\")\n"
   ]
  },
  {
   "cell_type": "code",
   "execution_count": null,
   "id": "7d510616",
   "metadata": {},
   "outputs": [],
   "source": [
    "from langchain_pinecone import PineconeVectorStore\n",
    "\n",
    "vector_store = PineconeVectorStore(\n",
    "    index_name=\"wine-review\",   # 기존에 만들어둔 인덱스 이름\n",
    "    embedding=embedding,\n",
    "    namespace=\"wine\"            # 기존에 저장해둔 namespace\n",
    ")\n"
   ]
  },
  {
   "cell_type": "code",
   "execution_count": null,
   "id": "5668cd1f",
   "metadata": {},
   "outputs": [],
   "source": [
    "results = vector_store.similarity_search(\n",
    "    \"달콤한 맛을 느낄 수 있는 와인\", \n",
    "    k=5, \n",
    "    namespace=\"wine\"\n",
    ")\n",
    "\n",
    "results\n"
   ]
  },
  {
   "cell_type": "code",
   "execution_count": null,
   "id": "2612ba65",
   "metadata": {},
   "outputs": [],
   "source": [
    "index.describe_index_stats()"
   ]
  },
  {
   "cell_type": "code",
   "execution_count": null,
   "id": "6b9d885b",
   "metadata": {},
   "outputs": [
    {
     "name": "stdout",
     "output_type": "stream",
     "text": [
      "이 요리는 판차넬라 샐러드로, 신선한 토마토와 바질의 상큼함이 빵의 고소함과 어우러져 상쾌하고 풍부한 맛을 냅니다.\n",
      "\n"
     ]
    }
   ],
   "source": [
    "def search_wine(dish_flavor):\n",
    "    results = vector_store.similarity_search(\n",
    "        dish_flavor, \n",
    "        k=5, \n",
    "        namespace='wine'\n",
    "    )\n",
    "\n",
    "    return {\n",
    "        \"dish_flavor\": dish_flavor,\n",
    "        \"wine_reviews\": \"\\n\".join([doc.page_content for doc in results])\n",
    "    }\n",
    "\n"
   ]
  },
  {
   "cell_type": "code",
   "execution_count": null,
   "id": "a40e08a3",
   "metadata": {},
   "outputs": [],
   "source": [
    "# vector store에서 현재 요리의 풍미와 맛과 유사한 와인 검색\n",
    "taste_query =  \"이 요리는 판차넬라 샐러드로, 신선한 토마토와 바질의 상큼함이 빵의 고소함과 어우러져 상쾌하고 풍부한 맛을 냅니다.\"\n",
    "results = vector_store.similarity_search(\n",
    "  taste_query, \n",
    "    k=5, \n",
    "    namespace='wine'\n",
    ")\n",
    "\n",
    "results\n"
   ]
  },
  {
   "cell_type": "code",
   "execution_count": null,
   "id": "ac03d732",
   "metadata": {},
   "outputs": [],
   "source": [
    "from langchain_core.runnables import RunnableLambda\n",
    "\n",
    "runnable = RunnableLambda(search_wine)\n",
    "response = runnable.invoke(taste_query)\n",
    "print(response['dish_flavor'])\n",
    "print(response['wine_reviews'])\n",
    "\n"
   ]
  },
  {
   "cell_type": "code",
   "execution_count": null,
   "id": "950d18dc",
   "metadata": {},
   "outputs": [],
   "source": [
    "WINE_SOMMELIER_SYSTEM = \"\"\"\n",
    "            Persona:\n",
    "\n",
    "            As a sommelier, I possess an extensive knowledge of wines, including grape varieties, regions, tasting notes, and food pairings. I am highly skilled in recommending wines based on individual preferences, specific occasions, and particular dishes. My expertise includes understanding wine production methods, flavor profiles, and how they interact with different foods. I also stay updated on the latest trends in the wine world and am capable of suggesting wines that are both traditional and adventurous. I strive to provide personalized, thoughtful recommendations to enhance the dining experience.\n",
    "\n",
    "            Role:\n",
    "\n",
    "            1. Wine & Food Pairing: I offer detailed wine recommendations that pair harmoniously with specific dishes, balancing flavors and enhancing the overall dining experience. Whether it's a simple snack or an elaborate meal, I suggest wines that complement the texture, taste, and style of the food.\n",
    "            2. Wine Selection Guidance: For various occasions (celebrations, formal dinners, casual gatherings), I assist in selecting wines that suit the event and align with the preferences of the individuals involved.\n",
    "            3. Wine Tasting Expertise: I can help identify wines based on tasting notes like acidity, tannin levels, sweetness, and body, providing insights into what makes a wine unique.\n",
    "            4. Explaining Wine Terminology: I simplify complex wine terminology, making it easy for everyone to understand grape varieties, regions, and tasting profiles.\n",
    "            5. Educational Role: I inform and educate about different wine regions, production techniques, and wine styles, fostering an appreciation for the diversity of wines available.\n",
    "\n",
    "            Examples:\n",
    "\n",
    "            - Wine Pairing Example (Dish First):\n",
    "            For a grilled butter garlic shrimp dish, I would recommend a Sauvignon Blanc or a Chardonnay with crisp acidity to cut through the richness of the butter and enhance the seafood’s flavors.\n",
    "\n",
    "            - Wine Pairing Example (Wine First):  \n",
    "            If you're enjoying a Cabernet Sauvignon, its bold tannins and dark fruit flavors pair wonderfully with grilled steak or lamb. The richness of the meat complements the intensity of the wine.\n",
    "\n",
    "            - Wine Pairing Example (Wine First):\n",
    "            A Pinot Noir, known for its lighter body and subtle flavors of red berries, is perfect alongside roasted duck or mushroom risotto, as its earthy notes complement the dishes.\n",
    "\n",
    "            - Occasion-Based Selection:\n",
    "            If you are celebrating a romantic anniversary dinner, I would suggest a classic Champagne or an elegant Pinot Noir, perfect for a special and intimate evening.\n",
    "\n",
    "            - Guiding by Taste Preferences:\n",
    "            If you enjoy wines with bold flavors and intense tannins, a Cabernet Sauvignon from Napa Valley would suit your palate perfectly. For something lighter and fruitier, a Riesling could be a delightful alternative, pairing well with spicy dishes or fresh salads.\n",
    "        \"\"\"\n"
   ]
  },
  {
   "cell_type": "code",
   "execution_count": null,
   "id": "8dbe5fa8",
   "metadata": {},
   "outputs": [],
   "source": [
    "\n",
    "def recommend_wine_chain(query):\n",
    "    prompt = ChatPromptTemplate.from_messages([\n",
    "        (\"system\", WINE_SOMMELIER_SYSTEM),\n",
    "        (\"human\", \"\"\"\n",
    "            와인 페이링 추천에 아래 요리/맛, 와인 리뷰만을 참고하여 한글로 답변해 주시기 바랍니다.\n",
    "\n",
    "            요리/맛:\n",
    "            {dish_flavor}\n",
    "\n",
    "            와인 리뷰:\n",
    "            {wine_reviews}\n",
    "        \"\"\")\n",
    "    ])\n",
    "\n",
    "    output_parser = StrOutputParser()\n",
    "    chain = prompt | llm | output_parser\n",
    "    \n",
    "    return chain"
   ]
  },
  {
   "cell_type": "code",
   "execution_count": 25,
   "id": "35bd16cc",
   "metadata": {},
   "outputs": [],
   "source": [
    "# chain 연결 \n",
    "runnable_1 = RunnableLambda(describe_dish_flavor_chain)\n",
    "runnable_2 = RunnableLambda(search_wine)\n",
    "runnable_3 = RunnableLambda(recommend_wine_chain)\n",
    "\n",
    "chain = runnable_1 | runnable_2 | runnable_3"
   ]
  },
  {
   "cell_type": "code",
   "execution_count": 26,
   "id": "378dbcd9",
   "metadata": {},
   "outputs": [
    {
     "name": "stdout",
     "output_type": "stream",
     "text": [
      "+----------------------------------+ \n",
      "| describe_dish_flavor_chain_input | \n",
      "+----------------------------------+ \n",
      "                  *                  \n",
      "                  *                  \n",
      "                  *                  \n",
      "           +------------+            \n",
      "           | ChatOpenAI |            \n",
      "           +------------+            \n",
      "                  *                  \n",
      "                  *                  \n",
      "                  *                  \n",
      "          +-------------+            \n",
      "          | search_wine |            \n",
      "          +-------------+            \n",
      "                  *                  \n",
      "                  *                  \n",
      "                  *                  \n",
      "           +------------+            \n",
      "           | ChatOpenAI |            \n",
      "           +------------+            \n",
      "                  *                  \n",
      "                  *                  \n",
      "                  *                  \n",
      "  +-----------------------------+    \n",
      "  | recommend_wine_chain_output |    \n",
      "  +-----------------------------+    \n"
     ]
    }
   ],
   "source": [
    "# 음식이미지 링크 > 음식찾아서 음식맛묘사 \n",
    "# > 음식맛이 와인평에 있는 와인 검색  \n",
    "# > 와인평+음식맛 > 소믈리에메시지\n",
    "chain.get_graph().print_ascii()\n"
   ]
  },
  {
   "cell_type": "code",
   "execution_count": 27,
   "id": "d427d699",
   "metadata": {},
   "outputs": [
    {
     "data": {
      "text/plain": [
       "'요리와 관련된 정보가 부족한 상태입니다. 추천하고 싶은 특정 요리의 이름이나 주요 재료를 말씀해 주시면, 이에 맞춰 와인을 추천해 드리겠습니다. 어떤 요리를 고려하고 계신가요?'"
      ]
     },
     "execution_count": 27,
     "metadata": {},
     "output_type": "execute_result"
    }
   ],
   "source": [
    "response = chain.invoke(\n",
    "  {\n",
    "    \"image_url\": \"https://www.stockfood.com/Sites/StockFood/Documents/Homepage/News//en/16.jpg\"\n",
    "  }\n",
    ")\n",
    "response"
   ]
  },
  {
   "cell_type": "code",
   "execution_count": null,
   "id": "53ee256c",
   "metadata": {},
   "outputs": [],
   "source": [
    "# 국가별 필터링\n",
    "def search_wine_by_country(query, country=\"US\"):\n",
    "    results = vector_store.similarity_search(\n",
    "        query,\n",
    "        k=5,\n",
    "        filter={\"country\": country},\n",
    "        namespace=\"wine\"\n",
    "    )\n",
    "    return results"
   ]
  },
  {
   "cell_type": "code",
   "execution_count": 32,
   "id": "e5aaa731",
   "metadata": {},
   "outputs": [
    {
     "data": {
      "text/plain": [
       "[]"
      ]
     },
     "execution_count": 32,
     "metadata": {},
     "output_type": "execute_result"
    }
   ],
   "source": [
    "query = \"달콤한 와인 찾아줘\"\n",
    "search_wine_by_country(query)"
   ]
  },
  {
   "cell_type": "code",
   "execution_count": null,
   "id": "7bee87bd",
   "metadata": {},
   "outputs": [],
   "source": []
  }
 ],
 "metadata": {
  "kernelspec": {
   "display_name": "prompting_env",
   "language": "python",
   "name": "python3"
  },
  "language_info": {
   "codemirror_mode": {
    "name": "ipython",
    "version": 3
   },
   "file_extension": ".py",
   "mimetype": "text/x-python",
   "name": "python",
   "nbconvert_exporter": "python",
   "pygments_lexer": "ipython3",
   "version": "3.12.11"
  }
 },
 "nbformat": 4,
 "nbformat_minor": 5
}
